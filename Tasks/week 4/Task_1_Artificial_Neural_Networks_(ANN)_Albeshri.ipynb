{
  "cells": [
    {
      "cell_type": "markdown",
      "id": "cda1ba95",
      "metadata": {
        "id": "cda1ba95"
      },
      "source": [
        "# Exam on Artificial Neural Networks (ANN)\n",
        "\n",
        "Welcome the Artificial Neural Networks (ANN) practical exam. In this exam, you will work on a classification task to predict the outcome of incidents involving buses. You are provided with a dataset that records breakdowns and delays in bus operations. Your task is to build, train, and evaluate an ANN model.\n",
        "\n",
        "---\n",
        "\n",
        "## Dataset Overview\n",
        "\n",
        "### **Dataset:**\n",
        "* Just run the command under the `Load Data` section to get the data downloaded and unzipped or you can access it [here](www.kaggle.com/datasets/khaledzsa/bus-breakdown-and-delays)\n",
        "\n",
        "### **Dataset Name:** Bus Breakdown and Delays\n",
        "\n",
        "### **Description:**  \n",
        "The dataset contains records of incidents involving buses that were either running late or experienced a breakdown. Your task is to predict whether the bus was delayed or had a breakdown based on the features provided.\n",
        "\n",
        "### **Features:**\n",
        "The dataset contains the following columns:\n",
        "\n",
        "- `School_Year`\n",
        "- `Busbreakdown_ID`\n",
        "- `Run_Type`\n",
        "- `Bus_No`\n",
        "- `Route_Number`\n",
        "- `Reason`\n",
        "- `Schools_Serviced`\n",
        "- `Occurred_On`\n",
        "- `Created_On`\n",
        "- `Boro`\n",
        "- `Bus_Company_Name`\n",
        "- `How_Long_Delayed`\n",
        "- `Number_Of_Students_On_The_Bus`\n",
        "- `Has_Contractor_Notified_Schools`\n",
        "- `Has_Contractor_Notified_Parents`\n",
        "- `Have_You_Alerted_OPT`\n",
        "- `Informed_On`\n",
        "- `Incident_Number`\n",
        "- `Last_Updated_On`\n",
        "- `Breakdown_or_Running_Late` (Target Column)\n",
        "- `School_Age_or_PreK`"
      ]
    },
    {
      "cell_type": "markdown",
      "id": "4c2b014b",
      "metadata": {
        "id": "4c2b014b"
      },
      "source": [
        "## Load Data"
      ]
    },
    {
      "cell_type": "code",
      "execution_count": 196,
      "id": "98ad02f5",
      "metadata": {
        "id": "98ad02f5"
      },
      "outputs": [],
      "source": [
        "#!kaggle datasets download -d khaledzsa/bus-breakdown-and-delays\n",
        "#!unzip bus-breakdown-and-delays.zip"
      ]
    },
    {
      "cell_type": "markdown",
      "id": "3e39620c",
      "metadata": {
        "id": "3e39620c"
      },
      "source": [
        "## Importing Libraries"
      ]
    },
    {
      "cell_type": "code",
      "execution_count": 293,
      "id": "62381953",
      "metadata": {
        "colab": {
          "base_uri": "https://localhost:8080/"
        },
        "id": "62381953",
        "outputId": "89b189f1-f229-44a5-8c3c-530515a08f2f"
      },
      "outputs": [
        {
          "output_type": "stream",
          "name": "stdout",
          "text": [
            "Requirement already satisfied: summarytools in /usr/local/lib/python3.10/dist-packages (0.3.0)\n",
            "Requirement already satisfied: pandas>=1.4.0 in /usr/local/lib/python3.10/dist-packages (from summarytools) (2.1.4)\n",
            "Requirement already satisfied: ipython>=7.20.0 in /usr/local/lib/python3.10/dist-packages (from summarytools) (7.34.0)\n",
            "Requirement already satisfied: numpy>=1.18.5 in /usr/local/lib/python3.10/dist-packages (from summarytools) (1.26.4)\n",
            "Requirement already satisfied: matplotlib>=3.3.0 in /usr/local/lib/python3.10/dist-packages (from summarytools) (3.7.1)\n",
            "Requirement already satisfied: setuptools>=18.5 in /usr/local/lib/python3.10/dist-packages (from ipython>=7.20.0->summarytools) (71.0.4)\n",
            "Requirement already satisfied: jedi>=0.16 in /usr/local/lib/python3.10/dist-packages (from ipython>=7.20.0->summarytools) (0.19.1)\n",
            "Requirement already satisfied: decorator in /usr/local/lib/python3.10/dist-packages (from ipython>=7.20.0->summarytools) (4.4.2)\n",
            "Requirement already satisfied: pickleshare in /usr/local/lib/python3.10/dist-packages (from ipython>=7.20.0->summarytools) (0.7.5)\n",
            "Requirement already satisfied: traitlets>=4.2 in /usr/local/lib/python3.10/dist-packages (from ipython>=7.20.0->summarytools) (5.7.1)\n",
            "Requirement already satisfied: prompt-toolkit!=3.0.0,!=3.0.1,<3.1.0,>=2.0.0 in /usr/local/lib/python3.10/dist-packages (from ipython>=7.20.0->summarytools) (3.0.47)\n",
            "Requirement already satisfied: pygments in /usr/local/lib/python3.10/dist-packages (from ipython>=7.20.0->summarytools) (2.16.1)\n",
            "Requirement already satisfied: backcall in /usr/local/lib/python3.10/dist-packages (from ipython>=7.20.0->summarytools) (0.2.0)\n",
            "Requirement already satisfied: matplotlib-inline in /usr/local/lib/python3.10/dist-packages (from ipython>=7.20.0->summarytools) (0.1.7)\n",
            "Requirement already satisfied: pexpect>4.3 in /usr/local/lib/python3.10/dist-packages (from ipython>=7.20.0->summarytools) (4.9.0)\n",
            "Requirement already satisfied: contourpy>=1.0.1 in /usr/local/lib/python3.10/dist-packages (from matplotlib>=3.3.0->summarytools) (1.2.1)\n",
            "Requirement already satisfied: cycler>=0.10 in /usr/local/lib/python3.10/dist-packages (from matplotlib>=3.3.0->summarytools) (0.12.1)\n",
            "Requirement already satisfied: fonttools>=4.22.0 in /usr/local/lib/python3.10/dist-packages (from matplotlib>=3.3.0->summarytools) (4.53.1)\n",
            "Requirement already satisfied: kiwisolver>=1.0.1 in /usr/local/lib/python3.10/dist-packages (from matplotlib>=3.3.0->summarytools) (1.4.5)\n",
            "Requirement already satisfied: packaging>=20.0 in /usr/local/lib/python3.10/dist-packages (from matplotlib>=3.3.0->summarytools) (24.1)\n",
            "Requirement already satisfied: pillow>=6.2.0 in /usr/local/lib/python3.10/dist-packages (from matplotlib>=3.3.0->summarytools) (9.4.0)\n",
            "Requirement already satisfied: pyparsing>=2.3.1 in /usr/local/lib/python3.10/dist-packages (from matplotlib>=3.3.0->summarytools) (3.1.2)\n",
            "Requirement already satisfied: python-dateutil>=2.7 in /usr/local/lib/python3.10/dist-packages (from matplotlib>=3.3.0->summarytools) (2.8.2)\n",
            "Requirement already satisfied: pytz>=2020.1 in /usr/local/lib/python3.10/dist-packages (from pandas>=1.4.0->summarytools) (2024.1)\n",
            "Requirement already satisfied: tzdata>=2022.1 in /usr/local/lib/python3.10/dist-packages (from pandas>=1.4.0->summarytools) (2024.1)\n",
            "Requirement already satisfied: parso<0.9.0,>=0.8.3 in /usr/local/lib/python3.10/dist-packages (from jedi>=0.16->ipython>=7.20.0->summarytools) (0.8.4)\n",
            "Requirement already satisfied: ptyprocess>=0.5 in /usr/local/lib/python3.10/dist-packages (from pexpect>4.3->ipython>=7.20.0->summarytools) (0.7.0)\n",
            "Requirement already satisfied: wcwidth in /usr/local/lib/python3.10/dist-packages (from prompt-toolkit!=3.0.0,!=3.0.1,<3.1.0,>=2.0.0->ipython>=7.20.0->summarytools) (0.2.13)\n",
            "Requirement already satisfied: six>=1.5 in /usr/local/lib/python3.10/dist-packages (from python-dateutil>=2.7->matplotlib>=3.3.0->summarytools) (1.16.0)\n"
          ]
        }
      ],
      "source": [
        "import matplotlib.pyplot as plt\n",
        "import tensorflow as tf\n",
        "from tensorflow.keras import layers\n",
        "from tensorflow.keras import regularizers\n",
        "\n",
        "!pip install summarytools\n",
        "from summarytools import dfSummary\n",
        "\n",
        "import pandas as pd\n",
        "import numpy as np\n",
        "from sklearn.model_selection import train_test_split\n",
        "from tensorflow.keras.models import Sequential\n",
        "from tensorflow.keras.layers import Dense\n",
        "from tensorflow.keras.optimizers import Adam\n",
        "from sklearn.preprocessing import OneHotEncoder, LabelEncoder\n",
        "import matplotlib.pyplot as plt\n",
        "import seaborn as sns\n",
        "from sklearn.metrics import accuracy_score, precision_score, recall_score, f1_score, confusion_matrix"
      ]
    },
    {
      "cell_type": "markdown",
      "id": "71ccd4e2",
      "metadata": {
        "id": "71ccd4e2"
      },
      "source": [
        "## Exploratory Data Analysis (EDA)\n",
        "This could include:\n",
        "* **Inspect the dataset**\n",
        "\n",
        "* **Dataset structure**\n",
        "\n",
        "* **Summary statistics**\n",
        "\n",
        "* **Check for missing values**\n",
        "\n",
        "* **Distribution of features**\n",
        "\n",
        "* **Categorical feature analysis**\n",
        "\n",
        "* **Correlation matrix**\n",
        "\n",
        "* **Outlier detection**\n",
        "\n",
        "And add more as needed!"
      ]
    },
    {
      "cell_type": "code",
      "execution_count": 294,
      "id": "0b800b0c",
      "metadata": {
        "id": "0b800b0c"
      },
      "outputs": [],
      "source": [
        "df = pd.read_csv('/content/Bus_Breakdown_and_Delays.csv')"
      ]
    },
    {
      "cell_type": "code",
      "source": [
        "df.shape"
      ],
      "metadata": {
        "colab": {
          "base_uri": "https://localhost:8080/"
        },
        "id": "XA52MfgYDvsu",
        "outputId": "8973fc81-e09e-4251-d76c-3563e928f159"
      },
      "id": "XA52MfgYDvsu",
      "execution_count": 295,
      "outputs": [
        {
          "output_type": "execute_result",
          "data": {
            "text/plain": [
              "(147972, 21)"
            ]
          },
          "metadata": {},
          "execution_count": 295
        }
      ]
    },
    {
      "cell_type": "code",
      "source": [
        "df.head()"
      ],
      "metadata": {
        "colab": {
          "base_uri": "https://localhost:8080/",
          "height": 338
        },
        "id": "N_Q1aliLDFcW",
        "outputId": "91ec15ab-efa4-421e-fdd7-66d88c7db136"
      },
      "id": "N_Q1aliLDFcW",
      "execution_count": 296,
      "outputs": [
        {
          "output_type": "execute_result",
          "data": {
            "text/plain": [
              "  School_Year  Busbreakdown_ID  Run_Type Bus_No Route_Number         Reason  \\\n",
              "0   2015-2016          1224901  Pre-K/EI    811            1          Other   \n",
              "1   2015-2016          1225098  Pre-K/EI   9302            1  Heavy Traffic   \n",
              "2   2015-2016          1215800  Pre-K/EI    358            2  Heavy Traffic   \n",
              "3   2015-2016          1215511  Pre-K/EI    331            2          Other   \n",
              "4   2015-2016          1215828  Pre-K/EI    332            2          Other   \n",
              "\n",
              "  Schools_Serviced             Occurred_On              Created_On   Boro  \\\n",
              "0             C353  10/26/2015 08:30:00 AM  10/26/2015 08:40:00 AM  Bronx   \n",
              "1             C814  10/27/2015 07:10:00 AM  10/27/2015 07:11:00 AM  Bronx   \n",
              "2             C195  09/18/2015 07:36:00 AM  09/18/2015 07:38:00 AM  Bronx   \n",
              "3             C178  09/17/2015 08:08:00 AM  09/17/2015 08:12:00 AM  Bronx   \n",
              "4             S176  09/18/2015 07:39:00 AM  09/18/2015 07:45:00 AM  Bronx   \n",
              "\n",
              "   ... How_Long_Delayed Number_Of_Students_On_The_Bus  \\\n",
              "0  ...        10MINUTES                             5   \n",
              "1  ...       25 MINUTES                             3   \n",
              "2  ...       15 MINUTES                            12   \n",
              "3  ...       10 minutes                            11   \n",
              "4  ...        10MINUTES                            12   \n",
              "\n",
              "   Has_Contractor_Notified_Schools Has_Contractor_Notified_Parents  \\\n",
              "0                              Yes                             Yes   \n",
              "1                              Yes                             Yes   \n",
              "2                              Yes                             Yes   \n",
              "3                              Yes                             Yes   \n",
              "4                              Yes                             Yes   \n",
              "\n",
              "  Have_You_Alerted_OPT             Informed_On Incident_Number  \\\n",
              "0                   No  10/26/2015 08:40:00 AM             NaN   \n",
              "1                   No  10/27/2015 07:11:00 AM             NaN   \n",
              "2                  Yes  09/18/2015 07:38:00 AM             NaN   \n",
              "3                  Yes  09/17/2015 08:12:00 AM             NaN   \n",
              "4                   No  09/18/2015 07:45:00 AM             NaN   \n",
              "\n",
              "          Last_Updated_On Breakdown_or_Running_Late School_Age_or_PreK  \n",
              "0  10/26/2015 08:40:39 AM              Running Late              Pre-K  \n",
              "1  10/27/2015 07:11:22 AM              Running Late              Pre-K  \n",
              "2  09/18/2015 07:38:44 AM              Running Late              Pre-K  \n",
              "3  09/17/2015 08:12:08 AM              Running Late              Pre-K  \n",
              "4  09/18/2015 07:56:40 AM              Running Late              Pre-K  \n",
              "\n",
              "[5 rows x 21 columns]"
            ],
            "text/html": [
              "\n",
              "  <div id=\"df-7e2ca129-be3a-47a6-b0cb-2df8c5a228ed\" class=\"colab-df-container\">\n",
              "    <div>\n",
              "<style scoped>\n",
              "    .dataframe tbody tr th:only-of-type {\n",
              "        vertical-align: middle;\n",
              "    }\n",
              "\n",
              "    .dataframe tbody tr th {\n",
              "        vertical-align: top;\n",
              "    }\n",
              "\n",
              "    .dataframe thead th {\n",
              "        text-align: right;\n",
              "    }\n",
              "</style>\n",
              "<table border=\"1\" class=\"dataframe\">\n",
              "  <thead>\n",
              "    <tr style=\"text-align: right;\">\n",
              "      <th></th>\n",
              "      <th>School_Year</th>\n",
              "      <th>Busbreakdown_ID</th>\n",
              "      <th>Run_Type</th>\n",
              "      <th>Bus_No</th>\n",
              "      <th>Route_Number</th>\n",
              "      <th>Reason</th>\n",
              "      <th>Schools_Serviced</th>\n",
              "      <th>Occurred_On</th>\n",
              "      <th>Created_On</th>\n",
              "      <th>Boro</th>\n",
              "      <th>...</th>\n",
              "      <th>How_Long_Delayed</th>\n",
              "      <th>Number_Of_Students_On_The_Bus</th>\n",
              "      <th>Has_Contractor_Notified_Schools</th>\n",
              "      <th>Has_Contractor_Notified_Parents</th>\n",
              "      <th>Have_You_Alerted_OPT</th>\n",
              "      <th>Informed_On</th>\n",
              "      <th>Incident_Number</th>\n",
              "      <th>Last_Updated_On</th>\n",
              "      <th>Breakdown_or_Running_Late</th>\n",
              "      <th>School_Age_or_PreK</th>\n",
              "    </tr>\n",
              "  </thead>\n",
              "  <tbody>\n",
              "    <tr>\n",
              "      <th>0</th>\n",
              "      <td>2015-2016</td>\n",
              "      <td>1224901</td>\n",
              "      <td>Pre-K/EI</td>\n",
              "      <td>811</td>\n",
              "      <td>1</td>\n",
              "      <td>Other</td>\n",
              "      <td>C353</td>\n",
              "      <td>10/26/2015 08:30:00 AM</td>\n",
              "      <td>10/26/2015 08:40:00 AM</td>\n",
              "      <td>Bronx</td>\n",
              "      <td>...</td>\n",
              "      <td>10MINUTES</td>\n",
              "      <td>5</td>\n",
              "      <td>Yes</td>\n",
              "      <td>Yes</td>\n",
              "      <td>No</td>\n",
              "      <td>10/26/2015 08:40:00 AM</td>\n",
              "      <td>NaN</td>\n",
              "      <td>10/26/2015 08:40:39 AM</td>\n",
              "      <td>Running Late</td>\n",
              "      <td>Pre-K</td>\n",
              "    </tr>\n",
              "    <tr>\n",
              "      <th>1</th>\n",
              "      <td>2015-2016</td>\n",
              "      <td>1225098</td>\n",
              "      <td>Pre-K/EI</td>\n",
              "      <td>9302</td>\n",
              "      <td>1</td>\n",
              "      <td>Heavy Traffic</td>\n",
              "      <td>C814</td>\n",
              "      <td>10/27/2015 07:10:00 AM</td>\n",
              "      <td>10/27/2015 07:11:00 AM</td>\n",
              "      <td>Bronx</td>\n",
              "      <td>...</td>\n",
              "      <td>25 MINUTES</td>\n",
              "      <td>3</td>\n",
              "      <td>Yes</td>\n",
              "      <td>Yes</td>\n",
              "      <td>No</td>\n",
              "      <td>10/27/2015 07:11:00 AM</td>\n",
              "      <td>NaN</td>\n",
              "      <td>10/27/2015 07:11:22 AM</td>\n",
              "      <td>Running Late</td>\n",
              "      <td>Pre-K</td>\n",
              "    </tr>\n",
              "    <tr>\n",
              "      <th>2</th>\n",
              "      <td>2015-2016</td>\n",
              "      <td>1215800</td>\n",
              "      <td>Pre-K/EI</td>\n",
              "      <td>358</td>\n",
              "      <td>2</td>\n",
              "      <td>Heavy Traffic</td>\n",
              "      <td>C195</td>\n",
              "      <td>09/18/2015 07:36:00 AM</td>\n",
              "      <td>09/18/2015 07:38:00 AM</td>\n",
              "      <td>Bronx</td>\n",
              "      <td>...</td>\n",
              "      <td>15 MINUTES</td>\n",
              "      <td>12</td>\n",
              "      <td>Yes</td>\n",
              "      <td>Yes</td>\n",
              "      <td>Yes</td>\n",
              "      <td>09/18/2015 07:38:00 AM</td>\n",
              "      <td>NaN</td>\n",
              "      <td>09/18/2015 07:38:44 AM</td>\n",
              "      <td>Running Late</td>\n",
              "      <td>Pre-K</td>\n",
              "    </tr>\n",
              "    <tr>\n",
              "      <th>3</th>\n",
              "      <td>2015-2016</td>\n",
              "      <td>1215511</td>\n",
              "      <td>Pre-K/EI</td>\n",
              "      <td>331</td>\n",
              "      <td>2</td>\n",
              "      <td>Other</td>\n",
              "      <td>C178</td>\n",
              "      <td>09/17/2015 08:08:00 AM</td>\n",
              "      <td>09/17/2015 08:12:00 AM</td>\n",
              "      <td>Bronx</td>\n",
              "      <td>...</td>\n",
              "      <td>10 minutes</td>\n",
              "      <td>11</td>\n",
              "      <td>Yes</td>\n",
              "      <td>Yes</td>\n",
              "      <td>Yes</td>\n",
              "      <td>09/17/2015 08:12:00 AM</td>\n",
              "      <td>NaN</td>\n",
              "      <td>09/17/2015 08:12:08 AM</td>\n",
              "      <td>Running Late</td>\n",
              "      <td>Pre-K</td>\n",
              "    </tr>\n",
              "    <tr>\n",
              "      <th>4</th>\n",
              "      <td>2015-2016</td>\n",
              "      <td>1215828</td>\n",
              "      <td>Pre-K/EI</td>\n",
              "      <td>332</td>\n",
              "      <td>2</td>\n",
              "      <td>Other</td>\n",
              "      <td>S176</td>\n",
              "      <td>09/18/2015 07:39:00 AM</td>\n",
              "      <td>09/18/2015 07:45:00 AM</td>\n",
              "      <td>Bronx</td>\n",
              "      <td>...</td>\n",
              "      <td>10MINUTES</td>\n",
              "      <td>12</td>\n",
              "      <td>Yes</td>\n",
              "      <td>Yes</td>\n",
              "      <td>No</td>\n",
              "      <td>09/18/2015 07:45:00 AM</td>\n",
              "      <td>NaN</td>\n",
              "      <td>09/18/2015 07:56:40 AM</td>\n",
              "      <td>Running Late</td>\n",
              "      <td>Pre-K</td>\n",
              "    </tr>\n",
              "  </tbody>\n",
              "</table>\n",
              "<p>5 rows × 21 columns</p>\n",
              "</div>\n",
              "    <div class=\"colab-df-buttons\">\n",
              "\n",
              "  <div class=\"colab-df-container\">\n",
              "    <button class=\"colab-df-convert\" onclick=\"convertToInteractive('df-7e2ca129-be3a-47a6-b0cb-2df8c5a228ed')\"\n",
              "            title=\"Convert this dataframe to an interactive table.\"\n",
              "            style=\"display:none;\">\n",
              "\n",
              "  <svg xmlns=\"http://www.w3.org/2000/svg\" height=\"24px\" viewBox=\"0 -960 960 960\">\n",
              "    <path d=\"M120-120v-720h720v720H120Zm60-500h600v-160H180v160Zm220 220h160v-160H400v160Zm0 220h160v-160H400v160ZM180-400h160v-160H180v160Zm440 0h160v-160H620v160ZM180-180h160v-160H180v160Zm440 0h160v-160H620v160Z\"/>\n",
              "  </svg>\n",
              "    </button>\n",
              "\n",
              "  <style>\n",
              "    .colab-df-container {\n",
              "      display:flex;\n",
              "      gap: 12px;\n",
              "    }\n",
              "\n",
              "    .colab-df-convert {\n",
              "      background-color: #E8F0FE;\n",
              "      border: none;\n",
              "      border-radius: 50%;\n",
              "      cursor: pointer;\n",
              "      display: none;\n",
              "      fill: #1967D2;\n",
              "      height: 32px;\n",
              "      padding: 0 0 0 0;\n",
              "      width: 32px;\n",
              "    }\n",
              "\n",
              "    .colab-df-convert:hover {\n",
              "      background-color: #E2EBFA;\n",
              "      box-shadow: 0px 1px 2px rgba(60, 64, 67, 0.3), 0px 1px 3px 1px rgba(60, 64, 67, 0.15);\n",
              "      fill: #174EA6;\n",
              "    }\n",
              "\n",
              "    .colab-df-buttons div {\n",
              "      margin-bottom: 4px;\n",
              "    }\n",
              "\n",
              "    [theme=dark] .colab-df-convert {\n",
              "      background-color: #3B4455;\n",
              "      fill: #D2E3FC;\n",
              "    }\n",
              "\n",
              "    [theme=dark] .colab-df-convert:hover {\n",
              "      background-color: #434B5C;\n",
              "      box-shadow: 0px 1px 3px 1px rgba(0, 0, 0, 0.15);\n",
              "      filter: drop-shadow(0px 1px 2px rgba(0, 0, 0, 0.3));\n",
              "      fill: #FFFFFF;\n",
              "    }\n",
              "  </style>\n",
              "\n",
              "    <script>\n",
              "      const buttonEl =\n",
              "        document.querySelector('#df-7e2ca129-be3a-47a6-b0cb-2df8c5a228ed button.colab-df-convert');\n",
              "      buttonEl.style.display =\n",
              "        google.colab.kernel.accessAllowed ? 'block' : 'none';\n",
              "\n",
              "      async function convertToInteractive(key) {\n",
              "        const element = document.querySelector('#df-7e2ca129-be3a-47a6-b0cb-2df8c5a228ed');\n",
              "        const dataTable =\n",
              "          await google.colab.kernel.invokeFunction('convertToInteractive',\n",
              "                                                    [key], {});\n",
              "        if (!dataTable) return;\n",
              "\n",
              "        const docLinkHtml = 'Like what you see? Visit the ' +\n",
              "          '<a target=\"_blank\" href=https://colab.research.google.com/notebooks/data_table.ipynb>data table notebook</a>'\n",
              "          + ' to learn more about interactive tables.';\n",
              "        element.innerHTML = '';\n",
              "        dataTable['output_type'] = 'display_data';\n",
              "        await google.colab.output.renderOutput(dataTable, element);\n",
              "        const docLink = document.createElement('div');\n",
              "        docLink.innerHTML = docLinkHtml;\n",
              "        element.appendChild(docLink);\n",
              "      }\n",
              "    </script>\n",
              "  </div>\n",
              "\n",
              "\n",
              "<div id=\"df-93d9f2e5-1821-404b-972f-7221e7f3a7ab\">\n",
              "  <button class=\"colab-df-quickchart\" onclick=\"quickchart('df-93d9f2e5-1821-404b-972f-7221e7f3a7ab')\"\n",
              "            title=\"Suggest charts\"\n",
              "            style=\"display:none;\">\n",
              "\n",
              "<svg xmlns=\"http://www.w3.org/2000/svg\" height=\"24px\"viewBox=\"0 0 24 24\"\n",
              "     width=\"24px\">\n",
              "    <g>\n",
              "        <path d=\"M19 3H5c-1.1 0-2 .9-2 2v14c0 1.1.9 2 2 2h14c1.1 0 2-.9 2-2V5c0-1.1-.9-2-2-2zM9 17H7v-7h2v7zm4 0h-2V7h2v10zm4 0h-2v-4h2v4z\"/>\n",
              "    </g>\n",
              "</svg>\n",
              "  </button>\n",
              "\n",
              "<style>\n",
              "  .colab-df-quickchart {\n",
              "      --bg-color: #E8F0FE;\n",
              "      --fill-color: #1967D2;\n",
              "      --hover-bg-color: #E2EBFA;\n",
              "      --hover-fill-color: #174EA6;\n",
              "      --disabled-fill-color: #AAA;\n",
              "      --disabled-bg-color: #DDD;\n",
              "  }\n",
              "\n",
              "  [theme=dark] .colab-df-quickchart {\n",
              "      --bg-color: #3B4455;\n",
              "      --fill-color: #D2E3FC;\n",
              "      --hover-bg-color: #434B5C;\n",
              "      --hover-fill-color: #FFFFFF;\n",
              "      --disabled-bg-color: #3B4455;\n",
              "      --disabled-fill-color: #666;\n",
              "  }\n",
              "\n",
              "  .colab-df-quickchart {\n",
              "    background-color: var(--bg-color);\n",
              "    border: none;\n",
              "    border-radius: 50%;\n",
              "    cursor: pointer;\n",
              "    display: none;\n",
              "    fill: var(--fill-color);\n",
              "    height: 32px;\n",
              "    padding: 0;\n",
              "    width: 32px;\n",
              "  }\n",
              "\n",
              "  .colab-df-quickchart:hover {\n",
              "    background-color: var(--hover-bg-color);\n",
              "    box-shadow: 0 1px 2px rgba(60, 64, 67, 0.3), 0 1px 3px 1px rgba(60, 64, 67, 0.15);\n",
              "    fill: var(--button-hover-fill-color);\n",
              "  }\n",
              "\n",
              "  .colab-df-quickchart-complete:disabled,\n",
              "  .colab-df-quickchart-complete:disabled:hover {\n",
              "    background-color: var(--disabled-bg-color);\n",
              "    fill: var(--disabled-fill-color);\n",
              "    box-shadow: none;\n",
              "  }\n",
              "\n",
              "  .colab-df-spinner {\n",
              "    border: 2px solid var(--fill-color);\n",
              "    border-color: transparent;\n",
              "    border-bottom-color: var(--fill-color);\n",
              "    animation:\n",
              "      spin 1s steps(1) infinite;\n",
              "  }\n",
              "\n",
              "  @keyframes spin {\n",
              "    0% {\n",
              "      border-color: transparent;\n",
              "      border-bottom-color: var(--fill-color);\n",
              "      border-left-color: var(--fill-color);\n",
              "    }\n",
              "    20% {\n",
              "      border-color: transparent;\n",
              "      border-left-color: var(--fill-color);\n",
              "      border-top-color: var(--fill-color);\n",
              "    }\n",
              "    30% {\n",
              "      border-color: transparent;\n",
              "      border-left-color: var(--fill-color);\n",
              "      border-top-color: var(--fill-color);\n",
              "      border-right-color: var(--fill-color);\n",
              "    }\n",
              "    40% {\n",
              "      border-color: transparent;\n",
              "      border-right-color: var(--fill-color);\n",
              "      border-top-color: var(--fill-color);\n",
              "    }\n",
              "    60% {\n",
              "      border-color: transparent;\n",
              "      border-right-color: var(--fill-color);\n",
              "    }\n",
              "    80% {\n",
              "      border-color: transparent;\n",
              "      border-right-color: var(--fill-color);\n",
              "      border-bottom-color: var(--fill-color);\n",
              "    }\n",
              "    90% {\n",
              "      border-color: transparent;\n",
              "      border-bottom-color: var(--fill-color);\n",
              "    }\n",
              "  }\n",
              "</style>\n",
              "\n",
              "  <script>\n",
              "    async function quickchart(key) {\n",
              "      const quickchartButtonEl =\n",
              "        document.querySelector('#' + key + ' button');\n",
              "      quickchartButtonEl.disabled = true;  // To prevent multiple clicks.\n",
              "      quickchartButtonEl.classList.add('colab-df-spinner');\n",
              "      try {\n",
              "        const charts = await google.colab.kernel.invokeFunction(\n",
              "            'suggestCharts', [key], {});\n",
              "      } catch (error) {\n",
              "        console.error('Error during call to suggestCharts:', error);\n",
              "      }\n",
              "      quickchartButtonEl.classList.remove('colab-df-spinner');\n",
              "      quickchartButtonEl.classList.add('colab-df-quickchart-complete');\n",
              "    }\n",
              "    (() => {\n",
              "      let quickchartButtonEl =\n",
              "        document.querySelector('#df-93d9f2e5-1821-404b-972f-7221e7f3a7ab button');\n",
              "      quickchartButtonEl.style.display =\n",
              "        google.colab.kernel.accessAllowed ? 'block' : 'none';\n",
              "    })();\n",
              "  </script>\n",
              "</div>\n",
              "\n",
              "    </div>\n",
              "  </div>\n"
            ],
            "application/vnd.google.colaboratory.intrinsic+json": {
              "type": "dataframe",
              "variable_name": "df"
            }
          },
          "metadata": {},
          "execution_count": 296
        }
      ]
    },
    {
      "cell_type": "code",
      "source": [
        "df.info()"
      ],
      "metadata": {
        "colab": {
          "base_uri": "https://localhost:8080/"
        },
        "id": "NwvJZbv6DIYG",
        "outputId": "e1e896e2-38ba-4133-d59b-36115be4edd2"
      },
      "id": "NwvJZbv6DIYG",
      "execution_count": 297,
      "outputs": [
        {
          "output_type": "stream",
          "name": "stdout",
          "text": [
            "<class 'pandas.core.frame.DataFrame'>\n",
            "RangeIndex: 147972 entries, 0 to 147971\n",
            "Data columns (total 21 columns):\n",
            " #   Column                           Non-Null Count   Dtype \n",
            "---  ------                           --------------   ----- \n",
            " 0   School_Year                      147972 non-null  object\n",
            " 1   Busbreakdown_ID                  147972 non-null  int64 \n",
            " 2   Run_Type                         147883 non-null  object\n",
            " 3   Bus_No                           147972 non-null  object\n",
            " 4   Route_Number                     147884 non-null  object\n",
            " 5   Reason                           147870 non-null  object\n",
            " 6   Schools_Serviced                 147972 non-null  object\n",
            " 7   Occurred_On                      147972 non-null  object\n",
            " 8   Created_On                       147972 non-null  object\n",
            " 9   Boro                             141654 non-null  object\n",
            " 10  Bus_Company_Name                 147972 non-null  object\n",
            " 11  How_Long_Delayed                 126342 non-null  object\n",
            " 12  Number_Of_Students_On_The_Bus    147972 non-null  int64 \n",
            " 13  Has_Contractor_Notified_Schools  147972 non-null  object\n",
            " 14  Has_Contractor_Notified_Parents  147972 non-null  object\n",
            " 15  Have_You_Alerted_OPT             147972 non-null  object\n",
            " 16  Informed_On                      147972 non-null  object\n",
            " 17  Incident_Number                  5632 non-null    object\n",
            " 18  Last_Updated_On                  147972 non-null  object\n",
            " 19  Breakdown_or_Running_Late        147972 non-null  object\n",
            " 20  School_Age_or_PreK               147972 non-null  object\n",
            "dtypes: int64(2), object(19)\n",
            "memory usage: 23.7+ MB\n"
          ]
        }
      ]
    },
    {
      "cell_type": "code",
      "source": [
        "dfSummary(df)"
      ],
      "metadata": {
        "colab": {
          "base_uri": "https://localhost:8080/",
          "height": 1000
        },
        "id": "18piUTCXDNPj",
        "outputId": "00ed36c4-0476-4eb8-9674-584337604f79"
      },
      "id": "18piUTCXDNPj",
      "execution_count": 298,
      "outputs": [
        {
          "output_type": "execute_result",
          "data": {
            "text/plain": [
              "<pandas.io.formats.style.Styler at 0x7de60b2f8c10>"
            ],
            "text/html": [
              "<style type=\"text/css\">\n",
              "#T_00016 thead>tr>th {\n",
              "  text-align: left;\n",
              "}\n",
              "#T_00016_row0_col0, #T_00016_row1_col0, #T_00016_row2_col0, #T_00016_row3_col0, #T_00016_row4_col0, #T_00016_row5_col0, #T_00016_row6_col0, #T_00016_row7_col0, #T_00016_row8_col0, #T_00016_row9_col0, #T_00016_row10_col0, #T_00016_row11_col0, #T_00016_row12_col0, #T_00016_row13_col0, #T_00016_row14_col0, #T_00016_row15_col0, #T_00016_row16_col0, #T_00016_row17_col0, #T_00016_row18_col0, #T_00016_row19_col0, #T_00016_row20_col0 {\n",
              "  text-align: left;\n",
              "  font-size: 12px;\n",
              "  vertical-align: middle;\n",
              "  width: 5%;\n",
              "  max-width: 50px;\n",
              "  min-width: 20px;\n",
              "}\n",
              "#T_00016_row0_col1, #T_00016_row1_col1, #T_00016_row2_col1, #T_00016_row3_col1, #T_00016_row4_col1, #T_00016_row5_col1, #T_00016_row6_col1, #T_00016_row7_col1, #T_00016_row8_col1, #T_00016_row9_col1, #T_00016_row10_col1, #T_00016_row11_col1, #T_00016_row12_col1, #T_00016_row13_col1, #T_00016_row14_col1, #T_00016_row15_col1, #T_00016_row16_col1, #T_00016_row17_col1, #T_00016_row18_col1, #T_00016_row19_col1, #T_00016_row20_col1 {\n",
              "  text-align: left;\n",
              "  font-size: 12px;\n",
              "  vertical-align: middle;\n",
              "  width: 15%;\n",
              "  max-width: 200px;\n",
              "  min-width: 100px;\n",
              "  word-break: break-word;\n",
              "}\n",
              "#T_00016_row0_col2, #T_00016_row1_col2, #T_00016_row2_col2, #T_00016_row3_col2, #T_00016_row4_col2, #T_00016_row5_col2, #T_00016_row6_col2, #T_00016_row7_col2, #T_00016_row8_col2, #T_00016_row9_col2, #T_00016_row10_col2, #T_00016_row11_col2, #T_00016_row12_col2, #T_00016_row13_col2, #T_00016_row14_col2, #T_00016_row15_col2, #T_00016_row16_col2, #T_00016_row17_col2, #T_00016_row18_col2, #T_00016_row19_col2, #T_00016_row20_col2 {\n",
              "  text-align: left;\n",
              "  font-size: 12px;\n",
              "  vertical-align: middle;\n",
              "  width: 30%;\n",
              "  min-width: 100px;\n",
              "}\n",
              "#T_00016_row0_col3, #T_00016_row1_col3, #T_00016_row2_col3, #T_00016_row3_col3, #T_00016_row4_col3, #T_00016_row5_col3, #T_00016_row6_col3, #T_00016_row7_col3, #T_00016_row8_col3, #T_00016_row9_col3, #T_00016_row10_col3, #T_00016_row11_col3, #T_00016_row12_col3, #T_00016_row13_col3, #T_00016_row14_col3, #T_00016_row15_col3, #T_00016_row16_col3, #T_00016_row17_col3, #T_00016_row18_col3, #T_00016_row19_col3, #T_00016_row20_col3 {\n",
              "  text-align: left;\n",
              "  font-size: 12px;\n",
              "  vertical-align: middle;\n",
              "  width: 25%;\n",
              "  min-width: 100px;\n",
              "}\n",
              "#T_00016_row0_col4, #T_00016_row1_col4, #T_00016_row2_col4, #T_00016_row3_col4, #T_00016_row4_col4, #T_00016_row5_col4, #T_00016_row6_col4, #T_00016_row7_col4, #T_00016_row8_col4, #T_00016_row9_col4, #T_00016_row10_col4, #T_00016_row11_col4, #T_00016_row12_col4, #T_00016_row13_col4, #T_00016_row14_col4, #T_00016_row15_col4, #T_00016_row16_col4, #T_00016_row17_col4, #T_00016_row18_col4, #T_00016_row19_col4, #T_00016_row20_col4 {\n",
              "  text-align: left;\n",
              "  font-size: 12px;\n",
              "  vertical-align: middle;\n",
              "  width: 20%;\n",
              "  min-width: 150px;\n",
              "}\n",
              "#T_00016_row0_col5, #T_00016_row1_col5, #T_00016_row2_col5, #T_00016_row3_col5, #T_00016_row4_col5, #T_00016_row5_col5, #T_00016_row6_col5, #T_00016_row7_col5, #T_00016_row8_col5, #T_00016_row9_col5, #T_00016_row10_col5, #T_00016_row11_col5, #T_00016_row12_col5, #T_00016_row13_col5, #T_00016_row14_col5, #T_00016_row15_col5, #T_00016_row16_col5, #T_00016_row17_col5, #T_00016_row18_col5, #T_00016_row19_col5, #T_00016_row20_col5 {\n",
              "  text-align: left;\n",
              "  font-size: 12px;\n",
              "  vertical-align: middle;\n",
              "  width: 10%;\n",
              "}\n",
              "</style>\n",
              "<table id=\"T_00016\" class=\"dataframe\">\n",
              "  <caption><strong>Data Frame Summary</strong><br>df<br>Dimensions: 147,972 x 21<br>Duplicates: 0</caption>\n",
              "  <thead>\n",
              "    <tr>\n",
              "      <th id=\"T_00016_level0_col0\" class=\"col_heading level0 col0\" >No</th>\n",
              "      <th id=\"T_00016_level0_col1\" class=\"col_heading level0 col1\" >Variable</th>\n",
              "      <th id=\"T_00016_level0_col2\" class=\"col_heading level0 col2\" >Stats / Values</th>\n",
              "      <th id=\"T_00016_level0_col3\" class=\"col_heading level0 col3\" >Freqs / (% of Valid)</th>\n",
              "      <th id=\"T_00016_level0_col4\" class=\"col_heading level0 col4\" >Graph</th>\n",
              "      <th id=\"T_00016_level0_col5\" class=\"col_heading level0 col5\" >Missing</th>\n",
              "    </tr>\n",
              "  </thead>\n",
              "  <tbody>\n",
              "    <tr>\n",
              "      <td id=\"T_00016_row0_col0\" class=\"data row0 col0\" >1</td>\n",
              "      <td id=\"T_00016_row0_col1\" class=\"data row0 col1\" ><strong>School_Year</strong><br>[object]</td>\n",
              "      <td id=\"T_00016_row0_col2\" class=\"data row0 col2\" >1. 2016-2017<br>2. 2015-2016<br>3. 2017-2018<br>4. 2019-2020</td>\n",
              "      <td id=\"T_00016_row0_col3\" class=\"data row0 col3\" >83,141 (56.2%)<br>63,184 (42.7%)<br>1,646 (1.1%)<br>1 (0.0%)</td>\n",
              "      <td id=\"T_00016_row0_col4\" class=\"data row0 col4\" ><img src = \"data:image/png;base64, iVBORw0KGgoAAAANSUhEUgAAAJsAAABcCAYAAAB5jMeAAAAAOXRFWHRTb2Z0d2FyZQBNYXRwbG90bGliIHZlcnNpb24zLjcuMSwgaHR0cHM6Ly9tYXRwbG90bGliLm9yZy/bCgiHAAAACXBIWXMAAA9hAAAPYQGoP6dpAAACBUlEQVR4nO3cwY3aUBSG0WsLTcLGCCFRQrKjAIpIsSmCAlimB4TwIkxmQxaDwkjZ5v1GzjkVXNAH5lm+dLfbrSChn3oA/h9iI6arqmVVvUw9yEy93W6369RDPIvFZrP5NgzDeupB5mgcx3PXdd8F924xDMN6v99fV6vV69TDzMnlcvl8OBzWp9PpparEVlWLqqrVavW63W5/Tj3MDC2nHuCZOCAQIzZixEaM2IgRGzFiI0ZsxIiNGLERIzZixEaM2IgRGzGLqvfHYaYeZG68p39bjON4PhwO6/I4zD83juO5qt6mnuNZeCy8LY+Ff9BZ5SPFAYEYl9EHl7zGbFfd2YRqz3ZV2YRKsV314NZPYw4IxIiNGLERIzZixEaM2IgRGzFiI0ZsxIiNGLERIzZixEaM2Iixyldef4pVvjtrd+3ZQXiwg9CYVT5iPn6z+WTT1J/tKttFtNYPw7De7XZ1X+fz241m+qqq5XL5a+pBmD83dYkRGzFiI0ZsxIiNGLERIzZixEaM2IgRGzFiI0ZsxIiNGLER01dVXa/XT1MPwvz14ziej8ej7SKas4NAjO0qYhwQiOm7rvvadZ2/H6C5vqq+VJXTKM25jBIjNmLERozYiBEbMWIjRmzEiI0YsREjNmLERozYiBEbMWIjRmzEiI2Yvqp+VJV/C6c5Cy/EuIwSIzZifgPObZmOjWOeuQAAAABJRU5ErkJggg==\"></img></td>\n",
              "      <td id=\"T_00016_row0_col5\" class=\"data row0 col5\" >0<br>(0.0%)</td>\n",
              "    </tr>\n",
              "    <tr>\n",
              "      <td id=\"T_00016_row1_col0\" class=\"data row1 col0\" >2</td>\n",
              "      <td id=\"T_00016_row1_col1\" class=\"data row1 col1\" ><strong>Busbreakdown_ID</strong><br>[int64]</td>\n",
              "      <td id=\"T_00016_row1_col2\" class=\"data row1 col2\" >Mean (sd) : 1287778.9 (43243.4)<br>min < med < max:<br>1212681.0 < 1287843.5 < 1362605.0<br>IQR (CV) : 74753.5 (29.8)</td>\n",
              "      <td id=\"T_00016_row1_col3\" class=\"data row1 col3\" >147,972 distinct values</td>\n",
              "      <td id=\"T_00016_row1_col4\" class=\"data row1 col4\" ><img src = \"data:image/png;base64, iVBORw0KGgoAAAANSUhEUgAAAKoAAABGCAYAAABc8A97AAAAOXRFWHRTb2Z0d2FyZQBNYXRwbG90bGliIHZlcnNpb24zLjcuMSwgaHR0cHM6Ly9tYXRwbG90bGliLm9yZy/bCgiHAAAACXBIWXMAAA9hAAAPYQGoP6dpAAACM0lEQVR4nO3XO4/aQBSG4TOwQcMltrgEOpqU6SzR0KRLmR+7bXqQtqZIk4oGISFjhLMoiDgVZQj2JOt82vdp4XjM8YsErigKA/53jbpvALjHQ9038K8459pm1gq4RMPMforNmpn9KIriOWC+ssCd37zvP4YaeHjo0qvO+8Fg8CmO426VQy+Xy5s8z9/3er1vjUbjrDB7td/vj865L2Z2qjAe8ryCdn44HFLn3OPvYr0ZqnOuPRwOP0dR1C97cOjSQ+bP57M3sw+z2expNBodyp69Xq/7q9XqXZIkXyeTSaowa2a22WzeLpfLj9PpdNRsNkuFGvq8QnaeZZlfLBb93W7XMrPyoZpZK4qi/nw+f47juNQHD136X3jgHe/9eTwefy97dpqmbTOzbrd7Kjtf1+x13nvfSZLk9NJfktCdm1n71ot3/UaN47iWpVedv86+VnV9ScrOlMG/fkggVEggVEggVEggVEggVEggVEggVEggVEggVEggVEggVEggVEggVEggVEggVEggVEggVEggVEggVEggVEggVEggVEggVEggVEggVEggVEggVEggVEggVEggVEggVEggVEggVEggVEggVEggVEggVEggVEggVEggVEggVEggVEggVEggVEggVEggVEggVEggVEggVEggVEggVEggVEggVEggVEggVEggVEggVEggVEggVEggVEggVEh4uOdNWZb5shc+Ho/ezCzPc7/dbjsvOa96tup9h87f09cvQ+cyuxRcbsYAAAAASUVORK5CYII=\"></img></td>\n",
              "      <td id=\"T_00016_row1_col5\" class=\"data row1 col5\" >0<br>(0.0%)</td>\n",
              "    </tr>\n",
              "    <tr>\n",
              "      <td id=\"T_00016_row2_col0\" class=\"data row2 col0\" >3</td>\n",
              "      <td id=\"T_00016_row2_col1\" class=\"data row2 col1\" ><strong>Run_Type</strong><br>[object]</td>\n",
              "      <td id=\"T_00016_row2_col2\" class=\"data row2 col2\" >1. Special Ed AM Run<br>2. Pre-K/EI<br>3. Special Ed PM Run<br>4. General Ed AM Run<br>5. General Ed PM Run<br>6. Special Ed Field Trip<br>7. General Ed Field Trip<br>8. Project Read PM Run<br>9. nan<br>10. Project Read AM Run<br>11. other</td>\n",
              "      <td id=\"T_00016_row2_col3\" class=\"data row2 col3\" >85,990 (58.1%)<br>20,951 (14.2%)<br>17,672 (11.9%)<br>17,182 (11.6%)<br>4,541 (3.1%)<br>628 (0.4%)<br>570 (0.4%)<br>300 (0.2%)<br>89 (0.1%)<br>47 (0.0%)<br>2 (0.0%)</td>\n",
              "      <td id=\"T_00016_row2_col4\" class=\"data row2 col4\" ><img src = \"data:image/png;base64, iVBORw0KGgoAAAANSUhEUgAAAJsAAAD+CAYAAAAtWHdlAAAAOXRFWHRTb2Z0d2FyZQBNYXRwbG90bGliIHZlcnNpb24zLjcuMSwgaHR0cHM6Ly9tYXRwbG90bGliLm9yZy/bCgiHAAAACXBIWXMAAA9hAAAPYQGoP6dpAAAD+0lEQVR4nO3dwW0bVwBF0T8C4cQbEgQBlZD0oCJcbIpgEe5BEMSF7XjDLOwsbFOSFzN3APKcCj6E6/kmMU+azufzgMLd2gfgdoiNjNjIiI2M2MiIjYzYyIiNjNjITGOM92OMd2sf5AZ8PZ/Pn9c+xJo2h8Phw3a73a99kGt3Op2epmn655aD22y32/3Dw8Pn3W73Ze3DXKvn5+c/j8fj/vHx8d0Y43ZjG2OM3W735f7+/tPah7ly79c+wNp8QCAjNjJiIyM2MmIjIzYyYiMjNjJiIyM2MmIjIzYyYiMjNjKbMb69b7X2Qa6Zn+83m9Pp9HQ8HvfD+1aLOp1OT2OMr2ufY002CJ2b3yBMfmUWlSWfbDf/L5kfLbausibiZ4usq6yJuGTJdZVPt/zAl7pkxEZGbGTERkZsZMRGRmxkxEZGbGTERkZsZMRGRmxkFhm8GHhwyWKDFwMPfua1cDIGL2TmfrJ5mvGiWQcvRi68ZrbBi5ELb5l78GLkwot8qUtGbGTERkZsZMRGRmxkxEZGbGTERkZsZMRGRmxkxEZmtsGLkQtvmXXwYuTCa7wWTsbghYwPCGTmvEZdobxqtnWVZRVvmWVdZVnF75hzXWVZxat8QCAjNjJiIyM2MmIjIzYyYiMjNjJiIyM2MmIjIzYyYiMzy7rKsorfMdu6yrKKt3gtnIx1FZmXnmyeUszu4uDFeIUl/DJ4MV5hKS8NXoxXmJ0vdcmIjYzYyIiNjNjIiI2M2MiIjYzYyIiNjNjIiI2M2Mj8MngxXmEpFwcvxisswWvhZAxeyPz/ZBueZCxtczgcPowxhoELS7vbbrf77+uquf4MJFzkezYyYiMjNjJiIyM2MmIjIzYyYiMjNjJiIyM2MmIjIzYyYiMjNjJiI7P5vqQaw5qKhdkgkLGuIuPJRsa6iox1FRlffZARGxmxkREbGbGRERsZsZERGxmxkREbGbGRERsZsZERGxmxkTF4IeO1cDIGL2T8n43M3TRNf0/T5G+Msri7McZfY4w/1j4I1881SkZsZMRGRmxkxEZGbGTERkZsZMRGRmxkxEZGbGTERkZsZMRG5m6M8XGM8e/aB+H62SCQcY2SERsZsZGxriJjXUXGNUpGbGTERkZsZMRGRmxkxEZGbGTERkZsZMRGRmxkxEZGbGTERsa6iox1FRnXKBmxkTF4IWPwQsY1SkZsZMRGRmxkxEZGbGTERkZsZMRGRmxkxEZGbGTERkZsZMRGxuCFjMELGdcoGbGRMXghY/BCxjVKRmxkxEZGbGTERkZsZMRGRmxkxEZGbGTERkZsZMRGRmxkxEbG4IWMwQsZ1ygZsZERGxmxkREbGbGRERsZsZERGxmxkfkP1RRO1+luuIMAAAAASUVORK5CYII=\"></img></td>\n",
              "      <td id=\"T_00016_row2_col5\" class=\"data row2 col5\" >89<br>(0.1%)</td>\n",
              "    </tr>\n",
              "    <tr>\n",
              "      <td id=\"T_00016_row3_col0\" class=\"data row3 col0\" >4</td>\n",
              "      <td id=\"T_00016_row3_col1\" class=\"data row3 col1\" ><strong>Bus_No</strong><br>[object]</td>\n",
              "      <td id=\"T_00016_row3_col2\" class=\"data row3 col2\" >1. 9354<br>2. 357<br>3. 9302<br>4. 118<br>5. 9320<br>6. 9352<br>7. 336<br>8. 9348<br>9. 404<br>10. 116<br>11. other</td>\n",
              "      <td id=\"T_00016_row3_col3\" class=\"data row3 col3\" >468 (0.3%)<br>465 (0.3%)<br>434 (0.3%)<br>357 (0.2%)<br>349 (0.2%)<br>323 (0.2%)<br>294 (0.2%)<br>285 (0.2%)<br>273 (0.2%)<br>264 (0.2%)<br>144,460 (97.6%)</td>\n",
              "      <td id=\"T_00016_row3_col4\" class=\"data row3 col4\" ><img src = \"data:image/png;base64, iVBORw0KGgoAAAANSUhEUgAAAJsAAAD+CAYAAAAtWHdlAAAAOXRFWHRTb2Z0d2FyZQBNYXRwbG90bGliIHZlcnNpb24zLjcuMSwgaHR0cHM6Ly9tYXRwbG90bGliLm9yZy/bCgiHAAAACXBIWXMAAA9hAAAPYQGoP6dpAAADaklEQVR4nO3cQUocYRRG0VfSGJ10I4JLSPbgIrLYLKIXkT2IWINonHQGIiQhs5Bb0Dln1rN/cOEh1OdyOp0GChdbP4D/h9jIiI2M2MiIjYzYyIiNjNjIiI2M2MhcLMvyaVmWq60fwvm7mJmPM/Nh64dw/pxRMmIjIzYyYiMjNjJiIyM2MmIjIzYyYiMjNjJiIyM2MmIjIzYyYiNzMTNfZ+b71g/h/C3+ixEVZ5SM2MhYV5GxriLjjJIRGxmxkREbGbGRERsZsZERGxmxkREbGbGRERsZsZERGxmxkTF4IWPwQsYZJSM2MgYvZAxeyDijZMRGRmxkxEZGbGTERkZsZMRGRmxkxEZGbGTERkZsZMRGRmxkDF7IGLyQcUbJiI2M2MhYV5GxriLjjJIRGxmxkREbGbGRERsZsZERGxmxkREbGbGRERsZsZERGxmxkbGuImNdRcYZJSM2MgYvZAxeyDijZMRGRmxkxEZGbGTERkZsZMRGRmxkxEZGbGTERkZsZMRGRmxkDF7IGLyQcUbJiI2MwQsZgxcyzigZsZERGxmxkREbGbGRERsZsZERGxmxkREbGbGRERsZsZERGxmxkbGuImNdRcYZJSM2MtZVZKyryDijZMRGRmxkxEZGbGTERkZsZMRGRmxkxEZGbGTERkZsZMRGRmxkDF7IGLyQcUbJiI2MwQsZgxcyzigZsZERGxmxkREbGbGRERsZsZERGxmxkREbGbGRERsZsZERGxmDFzIGL2ScUTJiIyM2MtZVZKyryDijZMRGRmxkxEZGbGTERkZsZMRGRmxkxEZGbGTERkZsZMRGRmxkrKvIWFeRcUbJiI2MwQsZgxcyzigZsZERGxmxkREbGbGRERsZsZERGxmxkREbGbGRERsZsZERGxmDFzIGL2ScUTLLzFzPzOXWD+EsvZ5Op+f3H7vb29vP+/3+ZssXcZ7WdX1cluXLe3C7/X5/c39//3w4HF62fhzn4+np6ep4PN48PDxczsxbbDMzh8Ph5e7u7tumr+McXf/8wx8IZMRGRmxkxEZGbGTERkZsZMRGRmxkxEZGbGTERkZsZHYzb5+DbP0Qzsufmtqt6/p4PB5v5rfPQeBvrev6ODOv7799Fs6/9Mtn4dZVZPyBQEZsZMRGRmxkxEZGbGTERkZsZMRG5geWtG4kbAREDwAAAABJRU5ErkJggg==\"></img></td>\n",
              "      <td id=\"T_00016_row3_col5\" class=\"data row3 col5\" >0<br>(0.0%)</td>\n",
              "    </tr>\n",
              "    <tr>\n",
              "      <td id=\"T_00016_row4_col0\" class=\"data row4 col0\" >5</td>\n",
              "      <td id=\"T_00016_row4_col1\" class=\"data row4 col1\" ><strong>Route_Number</strong><br>[object]</td>\n",
              "      <td id=\"T_00016_row4_col2\" class=\"data row4 col2\" >1. 1<br>2. 2<br>3. 3<br>4. 5<br>5. 4<br>6. 7<br>7. 6<br>8. 8<br>9. 18<br>10. K206<br>11. other</td>\n",
              "      <td id=\"T_00016_row4_col3\" class=\"data row4 col3\" >2,569 (1.7%)<br>2,217 (1.5%)<br>1,904 (1.3%)<br>1,740 (1.2%)<br>1,093 (0.7%)<br>787 (0.5%)<br>746 (0.5%)<br>396 (0.3%)<br>309 (0.2%)<br>303 (0.2%)<br>135,908 (91.8%)</td>\n",
              "      <td id=\"T_00016_row4_col4\" class=\"data row4 col4\" ><img src = \"data:image/png;base64, iVBORw0KGgoAAAANSUhEUgAAAJsAAAD+CAYAAAAtWHdlAAAAOXRFWHRTb2Z0d2FyZQBNYXRwbG90bGliIHZlcnNpb24zLjcuMSwgaHR0cHM6Ly9tYXRwbG90bGliLm9yZy/bCgiHAAAACXBIWXMAAA9hAAAPYQGoP6dpAAAEGklEQVR4nO3cMY4TdxyG4Z8ta2GbsVaWOELScQAfgsNyCB+AMndAq50iC9s4RQhKlyySXwvzPN0Wlv7FqxlmNB+b8/k8UNhe+wD8OsRGRmxkxEZGbGTERkZsZMRGRmxkNjNzPzN33/5+OZ/Pz1c8DzdsdzgcPizL8jAzs67r42az+Sg4LmG7LMvD8Xh8Ph6Pz9+iu/vPX8EP2M3M7Pf7L9/+vr/iWbhxHhDIiI2M2MiIjYzYyIiNjNjIiI2M2MiIjYzYyIiNjNjIiI3Mbmbm6enp7bUPwu3brev6eDqdvn+pOzMvVz4TN8oGgczGf5lF5d9XNlc1Lur7usqyikvbLsvy8P79+7Gs4tK2MzP39/dfr30Qbp+XumTERkZsZMRGRmxkxEZGbGTERkZsZMRGRmxkxEZGbGS2MzPPz89vrn0Qbt92XdfHT58+GbtwcT4LJ2PwQsaVjYzBCxmDFzIGL2S81CUjNjJiIyM2MmIjIzYyYiMjNjJiIyM2MmIjIzYyYiNj8ELG4IWMz8LJGLyQ8YBAxm2UjHUVGesqMtZVZDwgkBEbGbGRERsZsZERGxmxkREbGbGRERsZsZERGxmxkbGuImNdRcZn4WSsq8j8c2UbVzUubXc4HD7MzBi7cGnbZVkejF0oeM9GRmxkxEZGbGTERkZsZMRGRmxkxEZGbGTERkZsZMRGRmxkxEZm923oMmPswoX5LJyMwQsZVzYyBi9kDF7IePVBRmxkxEZGbGTERkZsZMRGRmxkxEZGbGTERkZsZMRGRmxkxEZGbGSsq8jYIJCxriLjykbGuoqMdRUZrz7IiI2M2MiIjYzYyIiNjNjIiI2M2MiIjYzYyIiNjNjIiI2M2MgYvJDxWTgZgxcy/s1GZrvZbH7fbDZvr30Qbt92Zn6bmTfXPgi3z22UjNjIiI2M2MiIjYzYyIiNjNjIiI2M2MiIjYzYyIiNjNjIiI3Mdmb+mJmv1z4It88GgYzbKBmxkREbGesqMtZVZNxGyYiNjNjIiI2M2MiIjYzYyIiNjNjIiI2M2MiIjYzYyIiNjNjIWFeRsa4i4zZKRmxkDF7IGLyQcRslIzYyYiMjNjJiIyM2MmIjIzYyYiMjNjJiIyM2MmIjIzYyYiNj8ELG4IWM2yiZzczcz8zdtQ/CT+flfD4/v+YHu8Ph8GFZlodLnYjbtK7r42az+fia4HbLsjwcj8fn/X7/5ZKH43Y8PT29PZ1OD58/f76bmf8f28zMfr//8u7duz8vdjpu0f1rf+ABgYzYyIiNjNjIiI2M2MiIjYzYyIiNjNjIiI2M2MiIjcxu5u9PRq59EH4eP9rLbl3Xx9Pp9DA/8MkIv651XR9n5uU1v/FZOD/q1Z+FW1eR8YBARmxkxEZGbGTERkZsZMRGRmxkxEbmL1l2JVmeM0wlAAAAAElFTkSuQmCC\"></img></td>\n",
              "      <td id=\"T_00016_row4_col5\" class=\"data row4 col5\" >88<br>(0.1%)</td>\n",
              "    </tr>\n",
              "    <tr>\n",
              "      <td id=\"T_00016_row5_col0\" class=\"data row5 col0\" >6</td>\n",
              "      <td id=\"T_00016_row5_col1\" class=\"data row5 col1\" ><strong>Reason</strong><br>[object]</td>\n",
              "      <td id=\"T_00016_row5_col2\" class=\"data row5 col2\" >1. Heavy Traffic<br>2. Other<br>3. Mechanical Problem<br>4. Won`t Start<br>5. Flat Tire<br>6. Weather Conditions<br>7. Late return from Field Trip<br>8. Problem Run<br>9. Delayed by School<br>10. Accident<br>11. other</td>\n",
              "      <td id=\"T_00016_row5_col3\" class=\"data row5 col3\" >87,426 (59.1%)<br>21,666 (14.6%)<br>13,908 (9.4%)<br>7,277 (4.9%)<br>4,585 (3.1%)<br>4,527 (3.1%)<br>3,464 (2.3%)<br>2,204 (1.5%)<br>1,446 (1.0%)<br>1,367 (0.9%)<br>102 (0.1%)</td>\n",
              "      <td id=\"T_00016_row5_col4\" class=\"data row5 col4\" ><img src = \"data:image/png;base64, iVBORw0KGgoAAAANSUhEUgAAAJsAAAD+CAYAAAAtWHdlAAAAOXRFWHRTb2Z0d2FyZQBNYXRwbG90bGliIHZlcnNpb24zLjcuMSwgaHR0cHM6Ly9tYXRwbG90bGliLm9yZy/bCgiHAAAACXBIWXMAAA9hAAAPYQGoP6dpAAAETklEQVR4nO3cQW4TZwCG4d+WRcnGkRWJI7S7HCCH4LA9RA6QZe8QRfGiATZmUYpKHSAhnnekzPOc4Bd6+c2M5mN1OBwGFNZzH4DlEBsZsZERGxmxkREbGbGRERsZsZFZjTHOxhhv5j7Ignw6HA4Pcx9iDpuLi4v32+12N/dBlmK/39+tVqs/lxjcZrvd7q6urh7Oz88/zH2Y1+7+/v7t9fX17vb29s0YY3mxjTHG+fn5h3fv3v0992EW4mzuA8zFAwIZsZERGxmxkREbGbGRERsZsZERGxmxkREbGbGRERsZsZHZjPHPd1ZzH2QJlv7nvNnv93fX19e7seDvrEr7/f5ujPFp7nPMwQaht9gNwsp/mUVl6pttsX+LOTbpumrJSyKOTbauWvqSiGNTr6s84fKVl7pkxEZGbGTERkZsZMRGRmxkxEZGbGTERkZsZMRGRmxkJhu8LH3cwbFJBy9LHndwzGfhZAxeyLz0ZnNz8WQvGrwYtPAcvzx4MWjhuV46eDFo4cm81CUjNjJiIyM2MmIjIzYyYiMjNjJiIyM2MmIjIzYyYiPzy4MXgxae60WDF4MWnsNn4WQMXsh4QCDzlJ9RP5WcxE/XVRZUnMoP11UWVJzSU9ZVFlSchAcEMmIjIzYyYiMjNjJiIyM2MmIjIzYyYiMjNjJiIyM2Mj9cV1lQcUo/XVdZUHEqPgsnY11F5ns3m9uMk3t08GLkwhSOBi9GLkzle4MXIxdOzktdMmIjIzYyYiMjNjJiIyM2MmIjIzYyYiMjNjJiIyM2MkeDFyMXpvLo4MXIhSn4LJyMwQsZNxsZgxcyBi9kDF7IeKlLRmxkxEZGbGTERkZsZMRGRmxkxEZGbGTERkZsZMRGRmxkrKvIWFeRsUEgY11F5rGbza3GJI7WVZZVTOWbdZVlFVN6bF1lWcUkvNQlIzYyYiMjNjJiIyM2MmIjIzYyYiMjNjJiIyM2MmIj883gxdiFKR0NXoxdmIrPwskYvJD5783mRmNSXwcvhi5Mbb3dbneXl5fjy8Lq/2NlOJn1GGOcnZ19nPsgvH5e6pIRGxmxkREbGbGRERsZsZERGxmxkREbGbGRERsZsZFZjzHGw8PDb3MfhNdvvd/v725ubgxdmJzPwskYvJDxgEDGzygZ6yoy1lVkrKvIeEAgIzYyYiMjNjJiIyM2MmIjIzYyYiMjNjJiIyM2MmIjY11FxrqKjM/CyVhXkfn3ZhtuNaa2ubi4eD/GGMYuTG293W53xi4UvGcjIzYyYiMjNjJiIyM2MmIjIzYyYiMjNjJiIyM2MmIjIzYyYiOz+TJ0GcPYhYn5LJyMwQsZ/2Yjs16tVn+sVqu3cx+E1289xvh9jOG/X2ByfkbJiI2M2MiIjYzYyIiNjNjIiI2M2MiIjYzYyIiNjNjIiI2M2Misxxh/jTE+zn0QXj8bBDJ+RsmIjYzYyIiNjNjIiI2M2MiIjYzYyIiNzGeqWeCvmsMG8wAAAABJRU5ErkJggg==\"></img></td>\n",
              "      <td id=\"T_00016_row5_col5\" class=\"data row5 col5\" >102<br>(0.1%)</td>\n",
              "    </tr>\n",
              "    <tr>\n",
              "      <td id=\"T_00016_row6_col0\" class=\"data row6 col0\" >7</td>\n",
              "      <td id=\"T_00016_row6_col1\" class=\"data row6 col1\" ><strong>Schools_Serviced</strong><br>[object]</td>\n",
              "      <td id=\"T_00016_row6_col2\" class=\"data row6 col2\" >1. C814<br>2. C073<br>3. C195<br>4. 12084<br>5. C579<br>6. C329<br>7. C457<br>8. 22286<br>9. C586<br>10. 02655<br>11. other</td>\n",
              "      <td id=\"T_00016_row6_col3\" class=\"data row6 col3\" >1,735 (1.2%)<br>1,498 (1.0%)<br>905 (0.6%)<br>877 (0.6%)<br>852 (0.6%)<br>815 (0.6%)<br>730 (0.5%)<br>705 (0.5%)<br>701 (0.5%)<br>693 (0.5%)<br>138,461 (93.6%)</td>\n",
              "      <td id=\"T_00016_row6_col4\" class=\"data row6 col4\" ><img src = \"data:image/png;base64, iVBORw0KGgoAAAANSUhEUgAAAJsAAAD+CAYAAAAtWHdlAAAAOXRFWHRTb2Z0d2FyZQBNYXRwbG90bGliIHZlcnNpb24zLjcuMSwgaHR0cHM6Ly9tYXRwbG90bGliLm9yZy/bCgiHAAAACXBIWXMAAA9hAAAPYQGoP6dpAAADu0lEQVR4nO3cPU5jZxiG4deWNQnNsSxLLIMFsAgWm0V4AewDIU4RJjROMUwzRUJ+uK0411VTnOLWZ/voe9icz+eBwvbSD8D/h9jIiI2M2MiIjYzYyIiNjNjIiI3MZmZuZubLzLydz+fXCz8PV2x3PB4flmU5rOv6vNlsfhEcn2W7LMvh7u5ulmU5zLcTDj7Fdmbm5ubmt0s/CNfPDwQyYiMjNjJiIyM2MmIjIzYyYiMjNjJiIyM2MmIjIzYyYiOznZl5fX396dIPwvXbruv6/Pj4OOu6Ps/M26UfiOtlg0Bm419mUXGykbGuImNdRca6ioyXumTERkZsZMRGRmxkxEZGbGTERkZsZMRGRmxkxEZGbGQMXsgYvJBxLZyMwQuZ7yfbONX4bLvj8fgwM2PswmfbLstyMHah4D0bGbGRERsZsZERGxmxkREbGbGRERsZsZERGxmxkREbGbGRERuZ3fvQZcbYhU/mWjgZgxcyvrOR8TFKxrqKjHUVGd/ZyIiNjNjIiI2M2MiIjYzYyIiNjNjIiI2M2MiIjYzYyIiNjNjIWFeRcS2cjHUVGScbGYMXMgYvZLz6ICM2MmIjIzYyYiMjNjJiIyM2MmIjIzYyYiMjNjJiIyM2MmIjY/BCxrVwMgYvZJxsZAxeyBi8kPHqg4zYyIiNjNjIiI2M2MiIjYzYyIiNjNjIiI2M2MiIjYzYyIiNjNjIWFeRsUEgY11FxslGxrqKjHUVGa8+yIiNjNjIiI2M2MiIjYzYyIiNjNjIiI2M2MiIjYzYyIiNjNjIGLyQcS2cjMELGScbGYMXMgYvZLz6ICM2MmIjIzYyYiMjNjJiIyM2MmIjIzYyYiMjNjJiIyM2MmIjY/BCxrVwMgYvZHxnI+NjlIx1FRnrKjK+s5ERGxmxkREbGbGRERsZsZERGxmxkREbGbGRERsZsZERGxmxkbGuIuNaOBnrKjJONjIGL2QMXsh49UFGbGTERkZsZMRGRmxkxEZGbGTERkZsZMRGRmxkxEZGbGTERsbghYxr4WQMXsh8P9lcCeefePvIJ+PueDw+vG8Q4G9Z1/X5I4Op3bIsh/v7+9f9fv+1ejiux8vLy8+n0+nw9PT0ZWb+OLaZmf1+//X29vbX5Om4Rjcf+SPv2ciIjYzYyIiNjNjIiI2M2MiIjYzYyIiNjNjIiI2M2MjsZr5dE7n0g/Df9Ffa2a3r+nw6nQ7zwWsi8KP30dSfDqZcC+ff8KFr4QYvZPxAICM2MmIjIzYyYiMjNjJiIyM2MmIj8zvqWDGtxlRTuAAAAABJRU5ErkJggg==\"></img></td>\n",
              "      <td id=\"T_00016_row6_col5\" class=\"data row6 col5\" >0<br>(0.0%)</td>\n",
              "    </tr>\n",
              "    <tr>\n",
              "      <td id=\"T_00016_row7_col0\" class=\"data row7 col0\" >8</td>\n",
              "      <td id=\"T_00016_row7_col1\" class=\"data row7 col1\" ><strong>Occurred_On</strong><br>[object]</td>\n",
              "      <td id=\"T_00016_row7_col2\" class=\"data row7 col2\" >1. 01/25/2016 07:30:00 AM<br>2. 09/09/2015 08:00:00 AM<br>3. 01/25/2016 07:00:00 AM<br>4. 01/25/2016 07:45:00 AM<br>5. 01/25/2016 08:00:00 AM<br>6. 01/26/2016 07:45:00 AM<br>7. 02/10/2017 07:45:00 AM<br>8. 03/16/2017 07:45:00 AM<br>9. 02/05/2016 06:10:00 AM<br>10. 03/15/2017 06:40:00 AM<br>11. other</td>\n",
              "      <td id=\"T_00016_row7_col3\" class=\"data row7 col3\" >39 (0.0%)<br>39 (0.0%)<br>37 (0.0%)<br>36 (0.0%)<br>36 (0.0%)<br>34 (0.0%)<br>29 (0.0%)<br>28 (0.0%)<br>28 (0.0%)<br>26 (0.0%)<br>147,640 (99.8%)</td>\n",
              "      <td id=\"T_00016_row7_col4\" class=\"data row7 col4\" ><img src = \"data:image/png;base64, iVBORw0KGgoAAAANSUhEUgAAAJsAAAD+CAYAAAAtWHdlAAAAOXRFWHRTb2Z0d2FyZQBNYXRwbG90bGliIHZlcnNpb24zLjcuMSwgaHR0cHM6Ly9tYXRwbG90bGliLm9yZy/bCgiHAAAACXBIWXMAAA9hAAAPYQGoP6dpAAADLklEQVR4nO3cwY3TYBRG0ecogmFja2QpJUAPKYItvdOFNzCswoIeriVzTgX/4kpPkfxleb1eA4Xb2Q/g/yE2MmIjIzYyYiMjNjJiIyM2MmIjIzYyt2VZvi3L8nb2Q7i+28x8nZnPZz+E63NGyYiNjNjIiI2M2MiIjYzYyIiNjNjIiI2M2MiIjYzYyIiNjNjIiI3MbWZ+zsyfsx/C9S3+xYiKM0pGbGSsq8hYV5FxRsmIjYzYyIiNjNjIiI2M2MiIjYzYyIiNjNjIiI2M2MiIjYzYyBi8kDF4IeOMkhEbGYMXMgYvZJxRMmIjIzYyYiMjNjJiIyM2MmIjIzYyYiMjNjJiIyM2MmIjIzYyBi9kDF7IOKNkxEZGbGSsq8hYV5FxRsmIjYzYyIiNjNjIiI2M2MiIjYzYyIiNjNjIiI2M2MiIjYzYyFhXkbGuIuOMkhEbGYMXMgYvZJxRMmIjIzYyYiMjNjJiIyM2MmIjIzYyYiMjNjJiIyM2MmIjIzYyBi9kDF7IOKNkxEbG4IWMwQsZZ5SM2MiIjYzYyIiNjNjIiI2M2MiIjYzYyIiNjNjIiI2M2MiIjYzYyFhXkbGuIuOMkhEbGesqMtZVZJxRMmIjIzYyYiMjNjJiIyM2MmIjIzYyYiMjNjJiIyM2MmIjIzYyBi9kDF7IOKNkxEbG4IWMwQsZZ5SM2MiIjYzYyIiNjNjIiI2M2MiIjYzYyIiNjNjIiI2M2MiIjYzBCxmDFzLOKBmxkREbGesqMtZVZJxRMmIjIzYyYiMjNjJiIyM2MmIjIzYyYiMjNjJiIyM2MmIjIzYy1lVkrKvIOKNkxEbG4IWMwQsZZ5SM2MiIjYzYyIiNjNjIiI2M2MiIjYzYyIiNjNjIiI2M2MiIjYzBCxmDFzLOKJllZr7MzKezH8L13fd9/76u6/vZD+H67uu6vj+fz9/btn2c/Riu6ziOt/vMzLZtH4/H49fZD+La/EAgIzYyYiMjNjJiIyM2MmIjIzYyYiMjNjJiIyM2MmIjc5/59/nH2Q/h2o7jeFv2ff/h40kKPgsnY11Fxg8EMmIjIzYyYiMjNjJiIyM2MmIjIzYyfwFj50uCzHpkKgAAAABJRU5ErkJggg==\"></img></td>\n",
              "      <td id=\"T_00016_row7_col5\" class=\"data row7 col5\" >0<br>(0.0%)</td>\n",
              "    </tr>\n",
              "    <tr>\n",
              "      <td id=\"T_00016_row8_col0\" class=\"data row8 col0\" >9</td>\n",
              "      <td id=\"T_00016_row8_col1\" class=\"data row8 col1\" ><strong>Created_On</strong><br>[object]</td>\n",
              "      <td id=\"T_00016_row8_col2\" class=\"data row8 col2\" >1. 01/26/2016 07:57:00 AM<br>2. 01/26/2016 07:46:00 AM<br>3. 01/26/2016 08:02:00 AM<br>4. 01/25/2016 07:55:00 AM<br>5. 01/26/2016 08:00:00 AM<br>6. 01/25/2016 07:52:00 AM<br>7. 03/15/2017 07:16:00 AM<br>8. 12/01/2015 07:53:00 AM<br>9. 03/27/2017 07:47:00 AM<br>10. 02/10/2017 07:50:00 AM<br>11. other</td>\n",
              "      <td id=\"T_00016_row8_col3\" class=\"data row8 col3\" >19 (0.0%)<br>17 (0.0%)<br>17 (0.0%)<br>13 (0.0%)<br>13 (0.0%)<br>13 (0.0%)<br>13 (0.0%)<br>13 (0.0%)<br>12 (0.0%)<br>12 (0.0%)<br>147,830 (99.9%)</td>\n",
              "      <td id=\"T_00016_row8_col4\" class=\"data row8 col4\" ><img src = \"data:image/png;base64, iVBORw0KGgoAAAANSUhEUgAAAJsAAAD+CAYAAAAtWHdlAAAAOXRFWHRTb2Z0d2FyZQBNYXRwbG90bGliIHZlcnNpb24zLjcuMSwgaHR0cHM6Ly9tYXRwbG90bGliLm9yZy/bCgiHAAAACXBIWXMAAA9hAAAPYQGoP6dpAAADLklEQVR4nO3cwY3TYBRG0ecogmFja2QpJUAPKYItvdOFNzCswoIeriVzTgX/4kpPkfxleb1eA4Xb2Q/g/yE2MmIjIzYyYiMjNjJiIyM2MmIjIzYyt2VZvi3L8nb2Q7i+28x8nZnPZz+E63NGyYiNjNjIiI2M2MiIjYzYyIiNjNjIiI2M2MiIjYzYyIiNjNjIiI3MbWZ+zsyfsx/C9S3+xYiKM0pGbGSsq8hYV5FxRsmIjYzYyIiNjNjIiI2M2MiIjYzYyIiNjNjIiI2M2MiIjYzYyBi8kDF4IeOMkhEbGYMXMgYvZJxRMmIjIzYyYiMjNjJiIyM2MmIjIzYyYiMjNjJiIyM2MmIjIzYyBi9kDF7IOKNkxEZGbGSsq8hYV5FxRsmIjYzYyIiNjNjIiI2M2MiIjYzYyIiNjNjIiI2M2MiIjYzYyFhXkbGuIuOMkhEbGYMXMgYvZJxRMmIjIzYyYiMjNjJiIyM2MmIjIzYyYiMjNjJiIyM2MmIjIzYyBi9kDF7IOKNkxEbG4IWMwQsZZ5SM2MiIjYzYyIiNjNjIiI2M2MiIjYzYyIiNjNjIiI2M2MiIjYzYyFhXkbGuIuOMkhEbGesqMtZVZJxRMmIjIzYyYiMjNjJiIyM2MmIjIzYyYiMjNjJiIyM2MmIjIzYyBi9kDF7IOKNkxEbG4IWMwQsZZ5SM2MiIjYzYyIiNjNjIiI2M2MiIjYzYyIiNjNjIiI2M2MiIjYzBCxmDFzLOKBmxkREbGesqMtZVZJxRMmIjIzYyYiMjNjJiIyM2MmIjIzYyYiMjNjJiIyM2MmIjIzYy1lVkrKvIOKNkxEbG4IWMwQsZZ5SM2MiIjYzYyIiNjNjIiI2M2MiIjYzYyIiNjNjIiI2M2MiIjYzBCxmDFzLOKJllZr7MzKezH8L13fd9/76u6/vZD+H67uu6vj+fz9/btn2c/Riu6ziOt/vMzLZtH4/H49fZD+La/EAgIzYyYiMjNjJiIyM2MmIjIzYyYiMjNjJiIyM2MmIjc5/59/nH2Q/h2o7jeFv2ff/h40kKPgsnY11Fxg8EMmIjIzYyYiMjNjJiIyM2MmIjIzYyfwFj50uCzHpkKgAAAABJRU5ErkJggg==\"></img></td>\n",
              "      <td id=\"T_00016_row8_col5\" class=\"data row8 col5\" >0<br>(0.0%)</td>\n",
              "    </tr>\n",
              "    <tr>\n",
              "      <td id=\"T_00016_row9_col0\" class=\"data row9 col0\" >10</td>\n",
              "      <td id=\"T_00016_row9_col1\" class=\"data row9 col1\" ><strong>Boro</strong><br>[object]</td>\n",
              "      <td id=\"T_00016_row9_col2\" class=\"data row9 col2\" >1. Bronx<br>2. Brooklyn<br>3. Manhattan<br>4. Queens<br>5. Staten Island<br>6. nan<br>7. Westchester<br>8. Nassau County<br>9. New Jersey<br>10. Rockland County<br>11. other</td>\n",
              "      <td id=\"T_00016_row9_col3\" class=\"data row9 col3\" >40,995 (27.7%)<br>35,632 (24.1%)<br>28,675 (19.4%)<br>21,169 (14.3%)<br>6,923 (4.7%)<br>6,318 (4.3%)<br>4,535 (3.1%)<br>1,970 (1.3%)<br>887 (0.6%)<br>491 (0.3%)<br>377 (0.3%)</td>\n",
              "      <td id=\"T_00016_row9_col4\" class=\"data row9 col4\" ><img src = \"data:image/png;base64, iVBORw0KGgoAAAANSUhEUgAAAJsAAAD+CAYAAAAtWHdlAAAAOXRFWHRTb2Z0d2FyZQBNYXRwbG90bGliIHZlcnNpb24zLjcuMSwgaHR0cHM6Ly9tYXRwbG90bGliLm9yZy/bCgiHAAAACXBIWXMAAA9hAAAPYQGoP6dpAAAETElEQVR4nO3dzW0bVwBG0UeCcKwNCUGAS0h2KkBFuNgUwQK0TA+CIC4i2xt5ESeIbf1F4dyhqHMqeIuLN+JgPntxd3c3oLCc+wC8HWIjIzYyYiMjNjJiIyM2MmIjIzYyizHGyRjj3dwHeaYvd3d3t3MfgpdZnZ2dfVyv16dzH+Q5drvd9WKx+F1wr9NqvV6fXlxc3G42m09zH+YxNzc377fb7enV1dW7MYbYXqHVGGNsNptPHz58+HPuwzzDydwH4OX8QCAjNjJiIyM2MmIjIzYyYiMjNjJiIyM2MmIjIzYyYiMjNjKrMf76VmzugzzlNZyRx612u931drs9Ha/gW7Hdbnc9xvgy9zl4GRsEMgv/ZBaVQ73Z3GBH6CDXVVZUx+ng1lVWVMfrUNdVB//LmP/OS10yYiMjNjJiIyM2MmIjIzYyYiMjNjJiIyM2MmIjIzYyBzd4OaSzsF8HOXgxbDlOPgsnY/BCZs6bze31xsw2eDFqeXtmGbwYtbxNcw5eDubXLw0vdcmIjYzYyIiNjNjIiI2M2MiIjYzYyIiNjNjIiI2M2MjMMngxanmbZhu8GLW8PT4LJ2PwQsYPBDJTPkY9JvnOZOsq6yl+NMm6ynqK+0y5rrKe4jt+IJARGxmxkREbGbGRERsZsZERGxmxkREbGbGRERsZsZGZZF1lPcV9JltXWU/xI5+Fk7GuIvPUzeZ2Ym8eHbwYrbBPDw5ejFbYt6cGL0Yr7I2XumTERkZsZMRGRmxkxEZGbGTERkZsZMRGRmxkxEZGbGQeHLwYrbBvjw5ejFbYJ5+FkzF4IeNmI2PwQsbghYzBCxkvdcmIjYzYyIiNjNjIiI2M2MiIjYzYyIiNjNjIiI2M2MiIjYx1FRnrKjI2CGSsq8g8dLO50di7e9dVVlVM4ad1lVUVU3loXWVVxd55qUtGbGTERkZsZMRGRmxkxEZGbGTERkZsZMRGRmxkxEbmp8GLoQtTuXfwYujCFHwWTsbghcy/bza3GZP6Z/Bi5MLUluv1+vT8/Hx8W1g9NFaG/205xhgnJyef5z4Ix89LXTJiIyM2MmIjIzYyYiMjNjJiIyM2MmIjIzYyYiMjNjLLMca4vb39Ze6DcPyWu93u+vLy0siFyfksnIzBCxk/EMj8/RgdHqFMbXV2dvZxjDEsq5jacr1en1pWUfA3GxmxkREbGbGRERsZsZERGxmxkREbGbGRERsZsZERGxmxkREbmdW3VdUYllVMzGfhZKyryLjZyBi8kDF4IePVBxmxkREbGbGRERsZsZERGxmxkREbGbGRERsZsZERGxmxkREbGYMXMj4LJ2PwQsbfbGSWi8Xit8Vi8X7ug3D8lmOMX8cY/nNbJucxSkZsZMRGRmxkxEZGbGTERkZsZMRGRmxkxEZGbGTERkZsZMRGZjnG+GOM8Xnug3D8bBDIeIySERsZsZERGxmxkREbGbGRERsZsZERG5mvW0vP7KUhpdEAAAAASUVORK5CYII=\"></img></td>\n",
              "      <td id=\"T_00016_row9_col5\" class=\"data row9 col5\" >6,318<br>(4.3%)</td>\n",
              "    </tr>\n",
              "    <tr>\n",
              "      <td id=\"T_00016_row10_col0\" class=\"data row10 col0\" >11</td>\n",
              "      <td id=\"T_00016_row10_col1\" class=\"data row10 col1\" ><strong>Bus_Company_Name</strong><br>[object]</td>\n",
              "      <td id=\"T_00016_row10_col2\" class=\"data row10 col2\" >1. G.V.C., LTD.<br>2. RELIANT TRANS, INC. (B232<br>3. PIONEER TRANSPORTATION CO<br>4. LEESEL TRANSP CORP (B2192<br>5. NEW DAWN TRANSIT, LLC (B2<br>6. LITTLE RICHIE BUS SERVICE<br>7. BORO TRANSIT, INC.<br>8. LOGAN BUS COMPANY INC.<br>9. SNT BUS INC<br>10. VAN TRANS LLC (B2192)<br>11. other</td>\n",
              "      <td id=\"T_00016_row10_col3\" class=\"data row10 col3\" >14,198 (9.6%)<br>13,741 (9.3%)<br>11,990 (8.1%)<br>11,553 (7.8%)<br>10,533 (7.1%)<br>6,537 (4.4%)<br>6,525 (4.4%)<br>4,380 (3.0%)<br>3,742 (2.5%)<br>3,682 (2.5%)<br>61,091 (41.3%)</td>\n",
              "      <td id=\"T_00016_row10_col4\" class=\"data row10 col4\" ><img src = \"data:image/png;base64, iVBORw0KGgoAAAANSUhEUgAAAJsAAAD+CAYAAAAtWHdlAAAAOXRFWHRTb2Z0d2FyZQBNYXRwbG90bGliIHZlcnNpb24zLjcuMSwgaHR0cHM6Ly9tYXRwbG90bGliLm9yZy/bCgiHAAAACXBIWXMAAA9hAAAPYQGoP6dpAAAEIklEQVR4nO3dQWobWQBF0VIjQmciYQxejBfRi+1FaDfGWIMkZKIe9MhIjl1fVddgnTMXyHD5oor/ks3pdJqg8NdnfwFuh9jIiI2M2MiIjYzYyIiNjNjIiI3MZpqm79M0fRv8/O/T6fRzwe/DF7a9v7//Z7fb3Y18+Hg8Pm82m38Fx0dsd7vd3ePj48/9fv9rzgdfXl7+PhwOd09PT9+maRIb79pO0zTt9/tfDw8PPwY+/33h78MX5gGBjNjIiI2M2MiIjYzYyIiNjNjIiI2M2MiIjYzYyIiNjNjIbKfp/7tpcz848hlu2/Z4PD4fDoe7aeBu2vF4fJ6m6ffyX4uvyAaBzMY/mUXlmpPNqcYsw+sqyyrmGlpXWVYx4pp1lWUVs3ipS0ZsZMRGRmxkxEZGbGTERkZsZMRGRmxkxEZGbGTERmZo8GLswojhwYuxC3O5Fk7G4IXM6MnmVGO2ocGLsQsjZg9ejF0YNTp4MXZhNi91yYiNjNjIiI2M2MiIjYzYyIiNjNjIiI2M2MiIjYzYyMwevBi7MGpo8GLswgjXwskYvJDxgEBm5GfUTyhDZq+rLKsYNWtdZVnFNUbWVZZVDPGAQEZsZMRGRmxkxEZGbGTERkZsZMRGRmxkxEZGbGTERmbWusqyimvMXldZVjHKtXAy1lVk5p5sTjWGzRq8GLtwjQ8PXoxduNbcwYuxC8O81CUjNjJiIyM2MmIjIzYyYiMjNjJiIyM2MmIjIzYyYiPz4cGLsQvXmjV4MXbhGq6FkzF4IfPeyeYkYzF/HLwYuLCkNwcvBi4s7b3Bi4ELi/FSl4zYyIiNjNjIiI2M2MiIjYzYyIiNjNjIiI2M2MiIjYzYyLy5rrKmYml/XFdZU7EkGwQy1lVknGxkrKvIWFeRsa4i46UuGbGRERsZsZERGxmxkREbGbGRERsZsZERGxmxkREbGYMXMgYvZFwLJ2PwQuatk82JxuIuDl4MXVjD2eDF0IW1vDV4MXRhcV7qkhEbGbGRERsZsZERGxmxkREbGbGRERsZsZERGxmxkTkbvBi6sJaLgxdDF9bgWjgZgxcyHhDIXPoZ9RPKKs7WVZZVrOXVusqyijVdWldZVrEKDwhkxEZGbGTERkZsZMRGRmxkxEZGbGTERkZsZMRGRmxkXq2rLKtY09m6yrKKtbgWTsa6ioyTjYzBCxmDFzIGL2S81CUjNjJiIyM2MmIjIzYyYiMjNjJiIyM2MmIjIzYyYiNj8ELG4IWMa+FkDF7IvPUfpd0SJ3nkbPByawx8Oq8GL5/9ZWoGPq1Lg5dbY+AT8VKXjNjIiI2M2MiIjYzYyIiNjNjIiI2M2MiIjYzYyIiNzKvBy6251b/7s5wNXm6NgU/HtXDXwjMGL2Q8IJARGxmxkREbGbGRERsZsZERGxmxkfkPJTZO4vFzpTEAAAAASUVORK5CYII=\"></img></td>\n",
              "      <td id=\"T_00016_row10_col5\" class=\"data row10 col5\" >0<br>(0.0%)</td>\n",
              "    </tr>\n",
              "    <tr>\n",
              "      <td id=\"T_00016_row11_col0\" class=\"data row11 col0\" >12</td>\n",
              "      <td id=\"T_00016_row11_col1\" class=\"data row11 col1\" ><strong>How_Long_Delayed</strong><br>[object]</td>\n",
              "      <td id=\"T_00016_row11_col2\" class=\"data row11 col2\" >1. nan<br>2. 20 MINS<br>3. 30 MINS<br>4. 30 minutes<br>5. 15 mins<br>6. 30MINS<br>7. 20 mins<br>8. 30 min<br>9. 20 min<br>10. 15 MINS<br>11. other</td>\n",
              "      <td id=\"T_00016_row11_col3\" class=\"data row11 col3\" >21,630 (14.6%)<br>5,662 (3.8%)<br>4,542 (3.1%)<br>3,650 (2.5%)<br>3,522 (2.4%)<br>3,199 (2.2%)<br>3,164 (2.1%)<br>2,897 (2.0%)<br>2,894 (2.0%)<br>2,806 (1.9%)<br>94,006 (63.5%)</td>\n",
              "      <td id=\"T_00016_row11_col4\" class=\"data row11 col4\" ><img src = \"data:image/png;base64, iVBORw0KGgoAAAANSUhEUgAAAJsAAAD+CAYAAAAtWHdlAAAAOXRFWHRTb2Z0d2FyZQBNYXRwbG90bGliIHZlcnNpb24zLjcuMSwgaHR0cHM6Ly9tYXRwbG90bGliLm9yZy/bCgiHAAAACXBIWXMAAA9hAAAPYQGoP6dpAAAECUlEQVR4nO3dTWpbSQBG0VIQJplIGIMWo0X0YnsR2o0w0iAOmagHSRrLljNSXf+dM8vkYcKlhB712YvT6TSg8OW1fwA+D7GRERsZsZERGxmxkREbGbGRERuZxRjj2xjjZtLzf55Op4dJz+adWd7d3f2zWq1uZzz8eDzeLxaLfwXHGGMsV6vV7Xa7fViv1z+u+eDD4fB1t9vd7vf7mzGG2BjLMcZYr9c/NpvN9wnP/zbhmbxTviCQERsZsZERGxmxkREbGbGRERsZsZERGxmxkREbGbGRERuZ5Ri/7p5d+8Eznsn7tjwej/e73e52TLh7djwe78cYP6/9XN4nGwQyC78yi8rfTjanElf14rrKMopru7iusoxihr+tqyyjuCovdcmIjYzYyIiNjNjIiI2M2MiIjYzYyIiNjNjIiI2M2MhcHLwYqzDDi4MXYxWuzbVwMgYvZF462ZxqXN3FwYuxCzM8G7wYuzDLS4MXYxeuzktdMmIjIzYyYiMjNjJiIyM2MmIjIzYyYiMjNjJiIyM2Ms8GL8YuzHJx8GLswgyuhZMxeCHjCwKZSx+jPkKZ4tm6yrKKWc7WVZZVzHRpXWVZxRS+IJARGxmxkREbGbGRERsZsZERGxmxkREbGbGRERsZsZE5W1dZVjHTs3WVZRWzuBZOxrqKjJONjMELGYMXMgYvZLzUJSM2MmIjIzYyYiMjNjJiIyM2MmIjIzYyYiMjNjJiI2PwQsbghYxr4WQMXsg8PdmcakxzNngxdmGmL38GL9vt9uF3dE//HCRcxf+Dl9//NnZhGi91yYiNjNjIiI2M2MiIjYzYyIiNjNjIiI2M2MiIjYzYyIiNzNm6CmZ6vK6yrGIqGwQy1lVknGxkrKvIWFeRsa4i46UuGbGRERsZsZERGxmxkREbGbGRERsZsZERGxmxkREbGYMXMgYvZFwLJ2PwQsbJRsbghYzBCxmDFzJe6pIRGxmxkREbGbGRERsZsZERGxmxkREbGbGRERsZsZExeCFj8ELGtXAyBi9kfEEg42OUjHUVGesqMtZVZHxBICM2MmIjIzYyYiMjNjJiIyM2MmIjIzYyYiMjNjJiI2NdRca6ioxr4WSsq8g42cgYvJAxeCFj8ELGS10yYiMjNjJiIyM2MmIjIzYyYiMjNjJiIyM2MmIjIzYyBi9kDF7IuBZOxuCFzNOTjdfz4T9VzgYvvJ7PMDZa/hm8PNohEDscDl93u93tfr+/GWN83NjG+DV42Ww231/7h/nkPvzYyEtdMmIjIzYyYiMjNjJiIyM2MmIjIzYyYiMjNjJiIyM2MgYvb8Bn+f9/PHj58Fdc3rLPMDZyLfzt+PDXwg1eyPiCQEZsZMRGRmxkxEZGbGTERkZsZMRG5j+3qBEHNaq7MgAAAABJRU5ErkJggg==\"></img></td>\n",
              "      <td id=\"T_00016_row11_col5\" class=\"data row11 col5\" >21,630<br>(14.6%)</td>\n",
              "    </tr>\n",
              "    <tr>\n",
              "      <td id=\"T_00016_row12_col0\" class=\"data row12 col0\" >13</td>\n",
              "      <td id=\"T_00016_row12_col1\" class=\"data row12 col1\" ><strong>Number_Of_Students_On_The_Bus</strong><br>[int64]</td>\n",
              "      <td id=\"T_00016_row12_col2\" class=\"data row12 col2\" >Mean (sd) : 3.6 (55.4)<br>min < med < max:<br>0.0 < 0.0 < 9007.0<br>IQR (CV) : 4.0 (0.1)</td>\n",
              "      <td id=\"T_00016_row12_col3\" class=\"data row12 col3\" >123 distinct values</td>\n",
              "      <td id=\"T_00016_row12_col4\" class=\"data row12 col4\" ><img src = \"data:image/png;base64, iVBORw0KGgoAAAANSUhEUgAAAKoAAABGCAYAAABc8A97AAAAOXRFWHRTb2Z0d2FyZQBNYXRwbG90bGliIHZlcnNpb24zLjcuMSwgaHR0cHM6Ly9tYXRwbG90bGliLm9yZy/bCgiHAAAACXBIWXMAAA9hAAAPYQGoP6dpAAABaUlEQVR4nO3XT2oCMRiH4aSI6GYGETyMh+hhewhvIyUuqi1Iuuum1D/jov3R59km+cjiZYbU3nuBv+7pty8At5hd21BrXZZS5hPnf/TejxPPwpeLodZal+v1+nkYhtWU4YfD4bXW+iJWHnXtizofhmG13W6P4zie7hncWlvsdrvVfr+fl1KEykOu/vpLKWUcx9Nms3mbMH854Qx84zFFBKESQahEECoRhEoEoRJBqEQQKhGESgShEkGoRBAqEYRKBKESQahEECoRhEoEoRJBqEQQKhGESgShEkGoRBAqEYRKBKESQahEECoRhEoEoRJBqEQQKhGESgShEkGoRBAqEYRKBKESQahEECoRhEoEoRJBqEQQKhGESgShEkGoRBAqEYRKBKESQahEECoRhEoEoRJBqEQQKhGESgShEkGoRBAqEYRKBKESQahEmN2yqbW2uHdwa21xPp9npZSh1nr3xfh33nvvp58WPwF79y3yrjldnwAAAABJRU5ErkJggg==\"></img></td>\n",
              "      <td id=\"T_00016_row12_col5\" class=\"data row12 col5\" >0<br>(0.0%)</td>\n",
              "    </tr>\n",
              "    <tr>\n",
              "      <td id=\"T_00016_row13_col0\" class=\"data row13 col0\" >14</td>\n",
              "      <td id=\"T_00016_row13_col1\" class=\"data row13 col1\" ><strong>Has_Contractor_Notified_Schools</strong><br>[object]</td>\n",
              "      <td id=\"T_00016_row13_col2\" class=\"data row13 col2\" >1. Yes<br>2. No</td>\n",
              "      <td id=\"T_00016_row13_col3\" class=\"data row13 col3\" >139,127 (94.0%)<br>8,845 (6.0%)</td>\n",
              "      <td id=\"T_00016_row13_col4\" class=\"data row13 col4\" ><img src = \"data:image/png;base64, iVBORw0KGgoAAAANSUhEUgAAAJsAAAAuCAYAAAA/ZmtKAAAAOXRFWHRTb2Z0d2FyZQBNYXRwbG90bGliIHZlcnNpb24zLjcuMSwgaHR0cHM6Ly9tYXRwbG90bGliLm9yZy/bCgiHAAAACXBIWXMAAA9hAAAPYQGoP6dpAAABNUlEQVR4nO3bMWrDMByF8adiQrNIGIMP40P0sD2EbmOCNTQhizp0jiVoeCHm+80e/sOHIcEv1FoFOARJZ0mnVx+Ct3evtV73HhimafqKMY6ui3BMpZRLCOF7L7ghxjguy3JNKd2cx+E4tm37zDmP67qeJD2OTZJSSrd5nn9s1+GIzq0HPhxXABKxwYjYYENssCE22BAbbIgNNsQGG2KDDbHBhthgQ2ywITbYEBtsiA02g/T38durD8H76u1nKKVccs6jOj5+Ax4ppVwk3feeYfCCZ2kOXgJTPrj0vtma1QItXVO+npkW0NKc8vXOtICW3ikfv1Txb/ypCxtigw2xwYbYYENssCE22BAbbIgNNsQGG2KDDbHBhthgQ2ywITbYEBtsmlM+Zn54lq4pX89MC2hh8AKbXwpbat9bc1bXAAAAAElFTkSuQmCC\"></img></td>\n",
              "      <td id=\"T_00016_row13_col5\" class=\"data row13 col5\" >0<br>(0.0%)</td>\n",
              "    </tr>\n",
              "    <tr>\n",
              "      <td id=\"T_00016_row14_col0\" class=\"data row14 col0\" >15</td>\n",
              "      <td id=\"T_00016_row14_col1\" class=\"data row14 col1\" ><strong>Has_Contractor_Notified_Parents</strong><br>[object]</td>\n",
              "      <td id=\"T_00016_row14_col2\" class=\"data row14 col2\" >1. Yes<br>2. No</td>\n",
              "      <td id=\"T_00016_row14_col3\" class=\"data row14 col3\" >113,098 (76.4%)<br>34,874 (23.6%)</td>\n",
              "      <td id=\"T_00016_row14_col4\" class=\"data row14 col4\" ><img src = \"data:image/png;base64, iVBORw0KGgoAAAANSUhEUgAAAJsAAAAuCAYAAAA/ZmtKAAAAOXRFWHRTb2Z0d2FyZQBNYXRwbG90bGliIHZlcnNpb24zLjcuMSwgaHR0cHM6Ly9tYXRwbG90bGliLm9yZy/bCgiHAAAACXBIWXMAAA9hAAAPYQGoP6dpAAABPUlEQVR4nO3bQWrDMBRF0a9iQjORMAYvxovoYrsI7cYYa5CETNRBJ6HDWjx9nHtW8CE3gRi/UGs1QCGY2dXMLr0PQXPPWuu99xGvhmmavmKMY+9D0FYpZQshfHsKbogxjsuy3FNKj97HoI193z9zzuO6rhcz8xObmVlK6THP8633MWjq2vuAvz56H4D3QWyQITbIEBtkiA0yxAYZYoMMsUGG2CBDbJAhNsgQG2SIDTLEBhlig8xg9vuyXe9D0I7Xz3MopWw559EcvmyH/yulbGb27H3HKwYv5+Vu8BKY8kHF6y+bu28ljnM55fM4Q8Nx7qZ8XmdoOM7rlI9/xifEQ13IEBtkiA0yxAYZYoMMsUGG2CBDbJAhNsgQG2SIDTLEBhligwyxQYbYIONuyufpFrTlcsrncYaG4xi8QOYHCltq3yMaNyQAAAAASUVORK5CYII=\"></img></td>\n",
              "      <td id=\"T_00016_row14_col5\" class=\"data row14 col5\" >0<br>(0.0%)</td>\n",
              "    </tr>\n",
              "    <tr>\n",
              "      <td id=\"T_00016_row15_col0\" class=\"data row15 col0\" >16</td>\n",
              "      <td id=\"T_00016_row15_col1\" class=\"data row15 col1\" ><strong>Have_You_Alerted_OPT</strong><br>[object]</td>\n",
              "      <td id=\"T_00016_row15_col2\" class=\"data row15 col2\" >1. No<br>2. Yes</td>\n",
              "      <td id=\"T_00016_row15_col3\" class=\"data row15 col3\" >101,355 (68.5%)<br>46,617 (31.5%)</td>\n",
              "      <td id=\"T_00016_row15_col4\" class=\"data row15 col4\" ><img src = \"data:image/png;base64, iVBORw0KGgoAAAANSUhEUgAAAJsAAAAuCAYAAAA/ZmtKAAAAOXRFWHRTb2Z0d2FyZQBNYXRwbG90bGliIHZlcnNpb24zLjcuMSwgaHR0cHM6Ly9tYXRwbG90bGliLm9yZy/bCgiHAAAACXBIWXMAAA9hAAAPYQGoP6dpAAABPUlEQVR4nO3bQWrDMBRF0a9iQjORMAYvJovoYrsI7cYYa9CETNRBp206MDyhr3tW8CE3gRi/UGs1QCGY2dXMLq0Pwb+etdZ76yPOmJZl+Ygxzq0PwWullD2E8NlzcFOMcb7dbveU0qP1MfjdcRzvOed527aLmfUbm5lZSumxrutX62Pw0rX1AWe9tT4A4yA2yBAbZIgNMsQGGWKDDLFBhtggQ2yQITbIEBtkiA0yxAYZYoMMsUFmMvt5Oa/1Ifibl89nKqXsOefZHLyc51kpZTezZ+s7zmDw0o/uBy+BKR9UvPyydf+tH4GLKZ+HmdsIup/yeZm5jcDLlI9/0h3goS5kiA0yxAYZYoMMsUGG2CBDbJAhNsgQG2SIDTLEBhligwyxQYbYIENskOl+ytfz7aNxMeXzMHMbAYMXyHwDCltq30ZFtP8AAAAASUVORK5CYII=\"></img></td>\n",
              "      <td id=\"T_00016_row15_col5\" class=\"data row15 col5\" >0<br>(0.0%)</td>\n",
              "    </tr>\n",
              "    <tr>\n",
              "      <td id=\"T_00016_row16_col0\" class=\"data row16 col0\" >17</td>\n",
              "      <td id=\"T_00016_row16_col1\" class=\"data row16 col1\" ><strong>Informed_On</strong><br>[object]</td>\n",
              "      <td id=\"T_00016_row16_col2\" class=\"data row16 col2\" >1. 01/26/2016 07:57:00 AM<br>2. 01/26/2016 07:46:00 AM<br>3. 01/26/2016 08:02:00 AM<br>4. 01/25/2016 07:55:00 AM<br>5. 01/26/2016 08:00:00 AM<br>6. 01/25/2016 07:52:00 AM<br>7. 03/15/2017 07:16:00 AM<br>8. 12/01/2015 07:53:00 AM<br>9. 03/27/2017 07:47:00 AM<br>10. 02/10/2017 07:50:00 AM<br>11. other</td>\n",
              "      <td id=\"T_00016_row16_col3\" class=\"data row16 col3\" >19 (0.0%)<br>17 (0.0%)<br>17 (0.0%)<br>13 (0.0%)<br>13 (0.0%)<br>13 (0.0%)<br>13 (0.0%)<br>13 (0.0%)<br>12 (0.0%)<br>12 (0.0%)<br>147,830 (99.9%)</td>\n",
              "      <td id=\"T_00016_row16_col4\" class=\"data row16 col4\" ><img src = \"data:image/png;base64, iVBORw0KGgoAAAANSUhEUgAAAJsAAAD+CAYAAAAtWHdlAAAAOXRFWHRTb2Z0d2FyZQBNYXRwbG90bGliIHZlcnNpb24zLjcuMSwgaHR0cHM6Ly9tYXRwbG90bGliLm9yZy/bCgiHAAAACXBIWXMAAA9hAAAPYQGoP6dpAAADLklEQVR4nO3cwY3TYBRG0ecogmFja2QpJUAPKYItvdOFNzCswoIeriVzTgX/4kpPkfxleb1eA4Xb2Q/g/yE2MmIjIzYyYiMjNjJiIyM2MmIjIzYyt2VZvi3L8nb2Q7i+28x8nZnPZz+E63NGyYiNjNjIiI2M2MiIjYzYyIiNjNjIiI2M2MiIjYzYyIiNjNjIiI3MbWZ+zsyfsx/C9S3+xYiKM0pGbGSsq8hYV5FxRsmIjYzYyIiNjNjIiI2M2MiIjYzYyIiNjNjIiI2M2MiIjYzYyBi8kDF4IeOMkhEbGYMXMgYvZJxRMmIjIzYyYiMjNjJiIyM2MmIjIzYyYiMjNjJiIyM2MmIjIzYyBi9kDF7IOKNkxEZGbGSsq8hYV5FxRsmIjYzYyIiNjNjIiI2M2MiIjYzYyIiNjNjIiI2M2MiIjYzYyFhXkbGuIuOMkhEbGYMXMgYvZJxRMmIjIzYyYiMjNjJiIyM2MmIjIzYyYiMjNjJiIyM2MmIjIzYyBi9kDF7IOKNkxEbG4IWMwQsZZ5SM2MiIjYzYyIiNjNjIiI2M2MiIjYzYyIiNjNjIiI2M2MiIjYzYyFhXkbGuIuOMkhEbGesqMtZVZJxRMmIjIzYyYiMjNjJiIyM2MmIjIzYyYiMjNjJiIyM2MmIjIzYyBi9kDF7IOKNkxEbG4IWMwQsZZ5SM2MiIjYzYyIiNjNjIiI2M2MiIjYzYyIiNjNjIiI2M2MiIjYzBCxmDFzLOKBmxkREbGesqMtZVZJxRMmIjIzYyYiMjNjJiIyM2MmIjIzYyYiMjNjJiIyM2MmIjIzYy1lVkrKvIOKNkxEbG4IWMwQsZZ5SM2MiIjYzYyIiNjNjIiI2M2MiIjYzYyIiNjNjIiI2M2MiIjYzBCxmDFzLOKJllZr7MzKezH8L13fd9/76u6/vZD+H67uu6vj+fz9/btn2c/Riu6ziOt/vMzLZtH4/H49fZD+La/EAgIzYyYiMjNjJiIyM2MmIjIzYyYiMjNjJiIyM2MmIjc5/59/nH2Q/h2o7jeFv2ff/h40kKPgsnY11Fxg8EMmIjIzYyYiMjNjJiIyM2MmIjIzYyfwFj50uCzHpkKgAAAABJRU5ErkJggg==\"></img></td>\n",
              "      <td id=\"T_00016_row16_col5\" class=\"data row16 col5\" >0<br>(0.0%)</td>\n",
              "    </tr>\n",
              "    <tr>\n",
              "      <td id=\"T_00016_row17_col0\" class=\"data row17 col0\" >18</td>\n",
              "      <td id=\"T_00016_row17_col1\" class=\"data row17 col1\" ><strong>Incident_Number</strong><br>[object]</td>\n",
              "      <td id=\"T_00016_row17_col2\" class=\"data row17 col2\" >1. nan<br>2. x<br>3. X<br>4. e<br>5. 90276267<br>6. 90278844<br>7. 90277417<br>8. E<br>9. 90284915<br>10. 90276352<br>11. other</td>\n",
              "      <td id=\"T_00016_row17_col3\" class=\"data row17 col3\" >142,340 (96.2%)<br>113 (0.1%)<br>77 (0.1%)<br>65 (0.0%)<br>24 (0.0%)<br>16 (0.0%)<br>12 (0.0%)<br>12 (0.0%)<br>12 (0.0%)<br>11 (0.0%)<br>5,290 (3.6%)</td>\n",
              "      <td id=\"T_00016_row17_col4\" class=\"data row17 col4\" ><img src = \"data:image/png;base64, iVBORw0KGgoAAAANSUhEUgAAAJsAAAD+CAYAAAAtWHdlAAAAOXRFWHRTb2Z0d2FyZQBNYXRwbG90bGliIHZlcnNpb24zLjcuMSwgaHR0cHM6Ly9tYXRwbG90bGliLm9yZy/bCgiHAAAACXBIWXMAAA9hAAAPYQGoP6dpAAAD2UlEQVR4nO3cQWojVxhG0b+McNoTCWHwEpI9eBG92F6EFpE9GKEatB1PlEHTkAgnEOi+AuWcmUuTN7jwKKjPy/l8HijcXfsA/H+IjYzYyIiNjNjIiI2M2MiIjYzYyCwz8zAz99c+CDfl/Xw+v14+3Dw+Pn7ebrf7a5yI27Su63FZli+XwW222+3++fn5dbfbvV3rcNyO0+n06XA47F9eXu5n5u+xzczsdru3p6enr1c5Hbfo4aOHXhDIiI2M2MiIjYzYyIiNjNjIiI2M2MiIjYzYyIiNjNjIiI3MZubbN0jXPgi34d9a2qzrejwcDvv5h2+Q4L9a1/U4M++Xz20Q+Bk+3CAs/mUWFS8IZO6WZfltWRYvCPx0dzPz68z8cu2DcPtco2TERkZsZMRGRmxkxEZGbGTERkZsZMRGRmxkxEZGbGTERkZsZO5m5veZ+ePaB+H22SCQcY2SERsZgxcyBi9kXKNkxEZGbGTERkZsZMRGRmxkxEZGbGTERkZsZMRGRmxkxEZGbGQMXsgYvJBxjZIRGxmxkbGuImNdRcY1SkZsZMRGRmxkxEZGbGTERkZsZMRGRmxkxEZGbGTERkZsZMRGxrqKjHUVGdcoGbGRMXghY/BCxjVKRmxkxEZGbGTERkZsZMRGRmxkxEZGbGTERkZsZMRGRmxkxEbG4IWMwQsZ1ygZsZExeCFj8ELGNUpGbGTERkZsZMRGRmxkxEZGbGTERkZsZMRGRmxkxEZGbGTERkZsZKyryFhXkXGNkhEbGesqMtZVZFyjZMRGRmxkxEZGbGTERkZsZMRGRmxkxEZGbGTERkZsZMRGRmxkDF7IGLyQcY2SERsZgxcyBi9kXKNkxEZGbGTERkZsZMRGRmxkxEZGbGTERkZsZMRGRmxkxEZGbGQMXsgYvJBxjZIRGxmxkbGuImNdRcY1SkZsZMRGRmxkxEZGbGTERkZsZMRGRmxkxEZGbGTERkZsZMRGxrqKjHUVGdcoGbGRMXghY/BCxjVKRmxkxEZGbGTERkZsZMRGRmxkxEZGbGTERkZsZMRGRmxkxEbG4IWMwQsZ1yiZZWYeZub+g9/ez+fza3webtjm8fHx83a73V/+sK7rcVmWL4LjR9lst9v98/Pz6263e/v+8HQ6fTocDvuXl5f7mREbP8RmZma32709PT19vfjt4Qrn4YZ5QSAjNjJiIyM2MmIjIzYyYiMjNjJiIyM2MmIjIzYyYiOzmfn2SdFfH17+DT/CZl3X4+Fw2M/FJ0Xruh5n5v06x+IW+SycjHUVGS8IZMRGRmxkxEZGbGTERkZsZMRGRmxk/gSAXZ40WoKTqAAAAABJRU5ErkJggg==\"></img></td>\n",
              "      <td id=\"T_00016_row17_col5\" class=\"data row17 col5\" >142,340<br>(96.2%)</td>\n",
              "    </tr>\n",
              "    <tr>\n",
              "      <td id=\"T_00016_row18_col0\" class=\"data row18 col0\" >19</td>\n",
              "      <td id=\"T_00016_row18_col1\" class=\"data row18 col1\" ><strong>Last_Updated_On</strong><br>[object]</td>\n",
              "      <td id=\"T_00016_row18_col2\" class=\"data row18 col2\" >1. 12/20/2016 02:31:32 PM<br>2. 09/14/2016 08:13:49 AM<br>3. 03/15/2017 07:03:04 AM<br>4. 06/15/2017 07:48:08 AM<br>5. 03/15/2017 07:52:02 AM<br>6. 05/30/2017 07:03:59 AM<br>7. 01/27/2016 07:46:31 AM<br>8. 09/27/2016 08:07:16 AM<br>9. 11/10/2015 07:58:10 AM<br>10. 01/09/2017 07:16:53 AM<br>11. other</td>\n",
              "      <td id=\"T_00016_row18_col3\" class=\"data row18 col3\" >4 (0.0%)<br>4 (0.0%)<br>3 (0.0%)<br>3 (0.0%)<br>3 (0.0%)<br>3 (0.0%)<br>3 (0.0%)<br>3 (0.0%)<br>3 (0.0%)<br>3 (0.0%)<br>147,940 (100.0%)</td>\n",
              "      <td id=\"T_00016_row18_col4\" class=\"data row18 col4\" ><img src = \"data:image/png;base64, iVBORw0KGgoAAAANSUhEUgAAAJsAAAD+CAYAAAAtWHdlAAAAOXRFWHRTb2Z0d2FyZQBNYXRwbG90bGliIHZlcnNpb24zLjcuMSwgaHR0cHM6Ly9tYXRwbG90bGliLm9yZy/bCgiHAAAACXBIWXMAAA9hAAAPYQGoP6dpAAADLklEQVR4nO3cwY3TYBRG0ecogmFja2QpJUAPKYItvdOFNzCswoIeriVzTgX/4kpPkfxleb1eA4Xb2Q/g/yE2MmIjIzYyYiMjNjJiIyM2MmIjIzYyt2VZvi3L8nb2Q7i+28x8nZnPZz+E63NGyYiNjNjIiI2M2MiIjYzYyIiNjNjIiI2M2MiIjYzYyIiNjNjIiI3MbWZ+zsyfsx/C9S3+xYiKM0pGbGSsq8hYV5FxRsmIjYzYyIiNjNjIiI2M2MiIjYzYyIiNjNjIiI2M2MiIjYzYyBi8kDF4IeOMkhEbGYMXMgYvZJxRMmIjIzYyYiMjNjJiIyM2MmIjIzYyYiMjNjJiIyM2MmIjIzYyBi9kDF7IOKNkxEZGbGSsq8hYV5FxRsmIjYzYyIiNjNjIiI2M2MiIjYzYyIiNjNjIiI2M2MiIjYzYyFhXkbGuIuOMkhEbGYMXMgYvZJxRMmIjIzYyYiMjNjJiIyM2MmIjIzYyYiMjNjJiIyM2MmIjIzYyBi9kDF7IOKNkxEbG4IWMwQsZZ5SM2MiIjYzYyIiNjNjIiI2M2MiIjYzYyIiNjNjIiI2M2MiIjYzYyFhXkbGuIuOMkhEbGesqMtZVZJxRMmIjIzYyYiMjNjJiIyM2MmIjIzYyYiMjNjJiIyM2MmIjIzYyBi9kDF7IOKNkxEbG4IWMwQsZZ5SM2MiIjYzYyIiNjNjIiI2M2MiIjYzYyIiNjNjIiI2M2MiIjYzBCxmDFzLOKBmxkREbGesqMtZVZJxRMmIjIzYyYiMjNjJiIyM2MmIjIzYyYiMjNjJiIyM2MmIjIzYy1lVkrKvIOKNkxEbG4IWMwQsZZ5SM2MiIjYzYyIiNjNjIiI2M2MiIjYzYyIiNjNjIiI2M2MiIjYzBCxmDFzLOKJllZr7MzKezH8L13fd9/76u6/vZD+H67uu6vj+fz9/btn2c/Riu6ziOt/vMzLZtH4/H49fZD+La/EAgIzYyYiMjNjJiIyM2MmIjIzYyYiMjNjJiIyM2MmIjc5/59/nH2Q/h2o7jeFv2ff/h40kKPgsnY11Fxg8EMmIjIzYyYiMjNjJiIyM2MmIjIzYyfwFj50uCzHpkKgAAAABJRU5ErkJggg==\"></img></td>\n",
              "      <td id=\"T_00016_row18_col5\" class=\"data row18 col5\" >0<br>(0.0%)</td>\n",
              "    </tr>\n",
              "    <tr>\n",
              "      <td id=\"T_00016_row19_col0\" class=\"data row19 col0\" >20</td>\n",
              "      <td id=\"T_00016_row19_col1\" class=\"data row19 col1\" ><strong>Breakdown_or_Running_Late</strong><br>[object]</td>\n",
              "      <td id=\"T_00016_row19_col2\" class=\"data row19 col2\" >1. Running Late<br>2. Breakdown</td>\n",
              "      <td id=\"T_00016_row19_col3\" class=\"data row19 col3\" >130,857 (88.4%)<br>17,115 (11.6%)</td>\n",
              "      <td id=\"T_00016_row19_col4\" class=\"data row19 col4\" ><img src = \"data:image/png;base64, iVBORw0KGgoAAAANSUhEUgAAAJsAAAAuCAYAAAA/ZmtKAAAAOXRFWHRTb2Z0d2FyZQBNYXRwbG90bGliIHZlcnNpb24zLjcuMSwgaHR0cHM6Ly9tYXRwbG90bGliLm9yZy/bCgiHAAAACXBIWXMAAA9hAAAPYQGoP6dpAAABN0lEQVR4nO3bQWrDMBRF0a9iQjORMAYvxovIYrsI7cYY/0ETMlEHnQeDPy9B3LMAocHFYOOXWmsGKCQzu5rZ5d0XwUd7ttbuZw8Zpmm65ZzHiBuhT+6+pZR+zgY35JzHZVnupZRH1OXQj33fv2ut47quFzM7F5uZWSnlMc/zb8jt0KNrxCFfEYcARxAbZIgNMsQGGWKDDLFBhtggQ2yQITbIEBtkiA0yxAYZYoMMsUGG2CAzmP3/IPfui+AzRbYxuPtWax0t6Ac59MfdNzN7nj2HwQuOCBm8JKZ8UIl8soXUj36FTfmi5l7oV8iUL3LuhX5FTvl4m8VLfNSFDLFBhtggQ2yQITbIEBtkiA0yxAYZYoMMsUGG2CBDbJAhNsgQG2SIDTIhUz6mgDgibMoXNfdCvxi8QOYPCltq36X1vt4AAAAASUVORK5CYII=\"></img></td>\n",
              "      <td id=\"T_00016_row19_col5\" class=\"data row19 col5\" >0<br>(0.0%)</td>\n",
              "    </tr>\n",
              "    <tr>\n",
              "      <td id=\"T_00016_row20_col0\" class=\"data row20 col0\" >21</td>\n",
              "      <td id=\"T_00016_row20_col1\" class=\"data row20 col1\" ><strong>School_Age_or_PreK</strong><br>[object]</td>\n",
              "      <td id=\"T_00016_row20_col2\" class=\"data row20 col2\" >1. School-Age<br>2. Pre-K</td>\n",
              "      <td id=\"T_00016_row20_col3\" class=\"data row20 col3\" >127,003 (85.8%)<br>20,969 (14.2%)</td>\n",
              "      <td id=\"T_00016_row20_col4\" class=\"data row20 col4\" ><img src = \"data:image/png;base64, iVBORw0KGgoAAAANSUhEUgAAAJsAAAAuCAYAAAA/ZmtKAAAAOXRFWHRTb2Z0d2FyZQBNYXRwbG90bGliIHZlcnNpb24zLjcuMSwgaHR0cHM6Ly9tYXRwbG90bGliLm9yZy/bCgiHAAAACXBIWXMAAA9hAAAPYQGoP6dpAAABOElEQVR4nO3bMYrDMBRF0a/BhKSRMAYvxovIYmcR2o0xVjEJaTRFqoBL/ecI7lnAx8VNIMEv1FoNUAhmdjOzy9kPgq/yqrU+Wh8dpmm6xxjH1ofRr1LKFkL4bR3cEGMcl2V5pJSeLQ+jT/u+X3PO47quFzNrG5uZWUrpOc/zX8vD6NrN4+iPx1HgCLFBhtggQ2yQITbIEBtkiA0yxAYZYoMMsUGG2CBDbJAhNsgQG2SIDTKD2fuFubMfBN/Bs4WhlLLlnEdzemEO/SmlbGb2an2XwQuOuAxeAlM+qHh+s7l8OtAvtymf1xwM/XKZ8nnOwdAvzykfv27xgT91IUNskCE2yBAbZIgNMsQGGWKDDLFBhtggQ2yQITbIEBtkiA0yxAYZYoOMy5SPaSCOuE35vOZg6BeDF8j8Awpbat/XvTuYAAAAAElFTkSuQmCC\"></img></td>\n",
              "      <td id=\"T_00016_row20_col5\" class=\"data row20 col5\" >0<br>(0.0%)</td>\n",
              "    </tr>\n",
              "  </tbody>\n",
              "</table>\n"
            ]
          },
          "metadata": {},
          "execution_count": 298
        }
      ]
    },
    {
      "cell_type": "code",
      "source": [
        "df.isnull().sum()"
      ],
      "metadata": {
        "colab": {
          "base_uri": "https://localhost:8080/",
          "height": 734
        },
        "id": "FCnYjf43EEHD",
        "outputId": "c4fa0784-d9a4-4fb2-9b10-ae429f05d79f"
      },
      "id": "FCnYjf43EEHD",
      "execution_count": 299,
      "outputs": [
        {
          "output_type": "execute_result",
          "data": {
            "text/plain": [
              "School_Year                             0\n",
              "Busbreakdown_ID                         0\n",
              "Run_Type                               89\n",
              "Bus_No                                  0\n",
              "Route_Number                           88\n",
              "Reason                                102\n",
              "Schools_Serviced                        0\n",
              "Occurred_On                             0\n",
              "Created_On                              0\n",
              "Boro                                 6318\n",
              "Bus_Company_Name                        0\n",
              "How_Long_Delayed                    21630\n",
              "Number_Of_Students_On_The_Bus           0\n",
              "Has_Contractor_Notified_Schools         0\n",
              "Has_Contractor_Notified_Parents         0\n",
              "Have_You_Alerted_OPT                    0\n",
              "Informed_On                             0\n",
              "Incident_Number                    142340\n",
              "Last_Updated_On                         0\n",
              "Breakdown_or_Running_Late               0\n",
              "School_Age_or_PreK                      0\n",
              "dtype: int64"
            ],
            "text/html": [
              "<div>\n",
              "<style scoped>\n",
              "    .dataframe tbody tr th:only-of-type {\n",
              "        vertical-align: middle;\n",
              "    }\n",
              "\n",
              "    .dataframe tbody tr th {\n",
              "        vertical-align: top;\n",
              "    }\n",
              "\n",
              "    .dataframe thead th {\n",
              "        text-align: right;\n",
              "    }\n",
              "</style>\n",
              "<table border=\"1\" class=\"dataframe\">\n",
              "  <thead>\n",
              "    <tr style=\"text-align: right;\">\n",
              "      <th></th>\n",
              "      <th>0</th>\n",
              "    </tr>\n",
              "  </thead>\n",
              "  <tbody>\n",
              "    <tr>\n",
              "      <th>School_Year</th>\n",
              "      <td>0</td>\n",
              "    </tr>\n",
              "    <tr>\n",
              "      <th>Busbreakdown_ID</th>\n",
              "      <td>0</td>\n",
              "    </tr>\n",
              "    <tr>\n",
              "      <th>Run_Type</th>\n",
              "      <td>89</td>\n",
              "    </tr>\n",
              "    <tr>\n",
              "      <th>Bus_No</th>\n",
              "      <td>0</td>\n",
              "    </tr>\n",
              "    <tr>\n",
              "      <th>Route_Number</th>\n",
              "      <td>88</td>\n",
              "    </tr>\n",
              "    <tr>\n",
              "      <th>Reason</th>\n",
              "      <td>102</td>\n",
              "    </tr>\n",
              "    <tr>\n",
              "      <th>Schools_Serviced</th>\n",
              "      <td>0</td>\n",
              "    </tr>\n",
              "    <tr>\n",
              "      <th>Occurred_On</th>\n",
              "      <td>0</td>\n",
              "    </tr>\n",
              "    <tr>\n",
              "      <th>Created_On</th>\n",
              "      <td>0</td>\n",
              "    </tr>\n",
              "    <tr>\n",
              "      <th>Boro</th>\n",
              "      <td>6318</td>\n",
              "    </tr>\n",
              "    <tr>\n",
              "      <th>Bus_Company_Name</th>\n",
              "      <td>0</td>\n",
              "    </tr>\n",
              "    <tr>\n",
              "      <th>How_Long_Delayed</th>\n",
              "      <td>21630</td>\n",
              "    </tr>\n",
              "    <tr>\n",
              "      <th>Number_Of_Students_On_The_Bus</th>\n",
              "      <td>0</td>\n",
              "    </tr>\n",
              "    <tr>\n",
              "      <th>Has_Contractor_Notified_Schools</th>\n",
              "      <td>0</td>\n",
              "    </tr>\n",
              "    <tr>\n",
              "      <th>Has_Contractor_Notified_Parents</th>\n",
              "      <td>0</td>\n",
              "    </tr>\n",
              "    <tr>\n",
              "      <th>Have_You_Alerted_OPT</th>\n",
              "      <td>0</td>\n",
              "    </tr>\n",
              "    <tr>\n",
              "      <th>Informed_On</th>\n",
              "      <td>0</td>\n",
              "    </tr>\n",
              "    <tr>\n",
              "      <th>Incident_Number</th>\n",
              "      <td>142340</td>\n",
              "    </tr>\n",
              "    <tr>\n",
              "      <th>Last_Updated_On</th>\n",
              "      <td>0</td>\n",
              "    </tr>\n",
              "    <tr>\n",
              "      <th>Breakdown_or_Running_Late</th>\n",
              "      <td>0</td>\n",
              "    </tr>\n",
              "    <tr>\n",
              "      <th>School_Age_or_PreK</th>\n",
              "      <td>0</td>\n",
              "    </tr>\n",
              "  </tbody>\n",
              "</table>\n",
              "</div><br><label><b>dtype:</b> int64</label>"
            ]
          },
          "metadata": {},
          "execution_count": 299
        }
      ]
    },
    {
      "cell_type": "markdown",
      "id": "1a559e40",
      "metadata": {
        "id": "1a559e40"
      },
      "source": [
        "## Data Preprocessing\n",
        "This could include:\n",
        "\n",
        "* **Handle Missing Values**\n",
        "    * Impute missing values or drop them.\n",
        "\n",
        "* **Encode Categorical Variables**\n",
        "    * One-hot encoding\n",
        "    * Label encoding\n",
        "\n",
        "* **Scale and Normalize Data**\n",
        "    * Standardization (Z-score)\n",
        "    * Min-Max scaling\n",
        "\n",
        "* **Feature Engineering**\n",
        "    * Create new features\n",
        "    * Feature selection\n",
        "\n",
        "* **Handle Imbalanced Data**\n",
        "    * Oversampling\n",
        "    * Undersampling\n",
        "\n",
        "* **Handle Outliers**\n",
        "    * Remove outliers\n",
        "    * Transform outliers\n",
        "\n",
        "* **Remove Duplicates**\n",
        "    * Remove redundant or duplicate data\n",
        "\n",
        "\n",
        "And add more as needed!\n",
        "\n",
        "Please treat these as suggestions. Feel free to use your judgment for the rest."
      ]
    },
    {
      "cell_type": "code",
      "execution_count": 300,
      "id": "e6867a7c",
      "metadata": {
        "id": "e6867a7c"
      },
      "outputs": [],
      "source": [
        "df.drop('Incident_Number', axis=1, inplace=True)"
      ]
    },
    {
      "cell_type": "code",
      "source": [
        "df = df.convert_dtypes()"
      ],
      "metadata": {
        "id": "crYdUDfuJpCH"
      },
      "id": "crYdUDfuJpCH",
      "execution_count": 301,
      "outputs": []
    },
    {
      "cell_type": "code",
      "source": [
        "df.dtypes"
      ],
      "metadata": {
        "colab": {
          "base_uri": "https://localhost:8080/",
          "height": 703
        },
        "id": "BX5Qngh3KLfc",
        "outputId": "7626ecd0-7368-4103-f748-822f3a96ece3"
      },
      "id": "BX5Qngh3KLfc",
      "execution_count": 302,
      "outputs": [
        {
          "output_type": "execute_result",
          "data": {
            "text/plain": [
              "School_Year                        string[python]\n",
              "Busbreakdown_ID                             Int64\n",
              "Run_Type                           string[python]\n",
              "Bus_No                             string[python]\n",
              "Route_Number                       string[python]\n",
              "Reason                             string[python]\n",
              "Schools_Serviced                   string[python]\n",
              "Occurred_On                        string[python]\n",
              "Created_On                         string[python]\n",
              "Boro                               string[python]\n",
              "Bus_Company_Name                   string[python]\n",
              "How_Long_Delayed                   string[python]\n",
              "Number_Of_Students_On_The_Bus               Int64\n",
              "Has_Contractor_Notified_Schools    string[python]\n",
              "Has_Contractor_Notified_Parents    string[python]\n",
              "Have_You_Alerted_OPT               string[python]\n",
              "Informed_On                        string[python]\n",
              "Last_Updated_On                    string[python]\n",
              "Breakdown_or_Running_Late          string[python]\n",
              "School_Age_or_PreK                 string[python]\n",
              "dtype: object"
            ],
            "text/html": [
              "<div>\n",
              "<style scoped>\n",
              "    .dataframe tbody tr th:only-of-type {\n",
              "        vertical-align: middle;\n",
              "    }\n",
              "\n",
              "    .dataframe tbody tr th {\n",
              "        vertical-align: top;\n",
              "    }\n",
              "\n",
              "    .dataframe thead th {\n",
              "        text-align: right;\n",
              "    }\n",
              "</style>\n",
              "<table border=\"1\" class=\"dataframe\">\n",
              "  <thead>\n",
              "    <tr style=\"text-align: right;\">\n",
              "      <th></th>\n",
              "      <th>0</th>\n",
              "    </tr>\n",
              "  </thead>\n",
              "  <tbody>\n",
              "    <tr>\n",
              "      <th>School_Year</th>\n",
              "      <td>string[python]</td>\n",
              "    </tr>\n",
              "    <tr>\n",
              "      <th>Busbreakdown_ID</th>\n",
              "      <td>Int64</td>\n",
              "    </tr>\n",
              "    <tr>\n",
              "      <th>Run_Type</th>\n",
              "      <td>string[python]</td>\n",
              "    </tr>\n",
              "    <tr>\n",
              "      <th>Bus_No</th>\n",
              "      <td>string[python]</td>\n",
              "    </tr>\n",
              "    <tr>\n",
              "      <th>Route_Number</th>\n",
              "      <td>string[python]</td>\n",
              "    </tr>\n",
              "    <tr>\n",
              "      <th>Reason</th>\n",
              "      <td>string[python]</td>\n",
              "    </tr>\n",
              "    <tr>\n",
              "      <th>Schools_Serviced</th>\n",
              "      <td>string[python]</td>\n",
              "    </tr>\n",
              "    <tr>\n",
              "      <th>Occurred_On</th>\n",
              "      <td>string[python]</td>\n",
              "    </tr>\n",
              "    <tr>\n",
              "      <th>Created_On</th>\n",
              "      <td>string[python]</td>\n",
              "    </tr>\n",
              "    <tr>\n",
              "      <th>Boro</th>\n",
              "      <td>string[python]</td>\n",
              "    </tr>\n",
              "    <tr>\n",
              "      <th>Bus_Company_Name</th>\n",
              "      <td>string[python]</td>\n",
              "    </tr>\n",
              "    <tr>\n",
              "      <th>How_Long_Delayed</th>\n",
              "      <td>string[python]</td>\n",
              "    </tr>\n",
              "    <tr>\n",
              "      <th>Number_Of_Students_On_The_Bus</th>\n",
              "      <td>Int64</td>\n",
              "    </tr>\n",
              "    <tr>\n",
              "      <th>Has_Contractor_Notified_Schools</th>\n",
              "      <td>string[python]</td>\n",
              "    </tr>\n",
              "    <tr>\n",
              "      <th>Has_Contractor_Notified_Parents</th>\n",
              "      <td>string[python]</td>\n",
              "    </tr>\n",
              "    <tr>\n",
              "      <th>Have_You_Alerted_OPT</th>\n",
              "      <td>string[python]</td>\n",
              "    </tr>\n",
              "    <tr>\n",
              "      <th>Informed_On</th>\n",
              "      <td>string[python]</td>\n",
              "    </tr>\n",
              "    <tr>\n",
              "      <th>Last_Updated_On</th>\n",
              "      <td>string[python]</td>\n",
              "    </tr>\n",
              "    <tr>\n",
              "      <th>Breakdown_or_Running_Late</th>\n",
              "      <td>string[python]</td>\n",
              "    </tr>\n",
              "    <tr>\n",
              "      <th>School_Age_or_PreK</th>\n",
              "      <td>string[python]</td>\n",
              "    </tr>\n",
              "  </tbody>\n",
              "</table>\n",
              "</div><br><label><b>dtype:</b> object</label>"
            ]
          },
          "metadata": {},
          "execution_count": 302
        }
      ]
    },
    {
      "cell_type": "code",
      "source": [
        "df['School_Year'] = df['School_Year'].str.slice(start=0, stop=4).astype('int')\n",
        "\n",
        "df['Bus_No_is_numeric'] = df['Bus_No'].str.isnumeric()\n",
        "df = df[df['Bus_No_is_numeric'] == True]\n",
        "df.drop('Bus_No_is_numeric', axis=1,inplace=True)"
      ],
      "metadata": {
        "id": "jyfHuuVYKggx"
      },
      "id": "jyfHuuVYKggx",
      "execution_count": 303,
      "outputs": []
    },
    {
      "cell_type": "code",
      "source": [
        "df['Schools_Serviced_is_numeric'] = df['Schools_Serviced'].str.isnumeric()\n",
        "df = df[df['Schools_Serviced_is_numeric'] == True]\n",
        "df.drop('Schools_Serviced_is_numeric', axis=1,inplace=True)"
      ],
      "metadata": {
        "id": "7chbWVgNQ9hw"
      },
      "id": "7chbWVgNQ9hw",
      "execution_count": 304,
      "outputs": []
    },
    {
      "cell_type": "code",
      "source": [
        "df['Boro'] = df['Boro'].fillna(df['Boro'].mode()[0])\n",
        "df['Reason'] = df['Reason'].fillna(df['Reason'].mode()[0])\n",
        "df['Run_Type'] = df['Run_Type'].fillna(df['Run_Type'].mode()[0])\n",
        "df['Route_Number'] = df['Route_Number'].fillna(df['Route_Number'].mode()[0])\n",
        "\n",
        "df['How_Long_Delayed'] = df['How_Long_Delayed'].fillna(df['How_Long_Delayed'].mode()[0])\n",
        "df['Route_Number'] = df['Route_Number'].fillna(df['Boro'].mode()[0])\n"
      ],
      "metadata": {
        "id": "v4CVo68OEijX"
      },
      "id": "v4CVo68OEijX",
      "execution_count": 305,
      "outputs": []
    },
    {
      "cell_type": "code",
      "source": [
        "df.isnull().sum()"
      ],
      "metadata": {
        "colab": {
          "base_uri": "https://localhost:8080/",
          "height": 703
        },
        "id": "FDcvqQTDG6SI",
        "outputId": "e085225f-9268-459d-e579-50865c601517"
      },
      "id": "FDcvqQTDG6SI",
      "execution_count": 306,
      "outputs": [
        {
          "output_type": "execute_result",
          "data": {
            "text/plain": [
              "School_Year                        0\n",
              "Busbreakdown_ID                    0\n",
              "Run_Type                           0\n",
              "Bus_No                             0\n",
              "Route_Number                       0\n",
              "Reason                             0\n",
              "Schools_Serviced                   0\n",
              "Occurred_On                        0\n",
              "Created_On                         0\n",
              "Boro                               0\n",
              "Bus_Company_Name                   0\n",
              "How_Long_Delayed                   0\n",
              "Number_Of_Students_On_The_Bus      0\n",
              "Has_Contractor_Notified_Schools    0\n",
              "Has_Contractor_Notified_Parents    0\n",
              "Have_You_Alerted_OPT               0\n",
              "Informed_On                        0\n",
              "Last_Updated_On                    0\n",
              "Breakdown_or_Running_Late          0\n",
              "School_Age_or_PreK                 0\n",
              "dtype: int64"
            ],
            "text/html": [
              "<div>\n",
              "<style scoped>\n",
              "    .dataframe tbody tr th:only-of-type {\n",
              "        vertical-align: middle;\n",
              "    }\n",
              "\n",
              "    .dataframe tbody tr th {\n",
              "        vertical-align: top;\n",
              "    }\n",
              "\n",
              "    .dataframe thead th {\n",
              "        text-align: right;\n",
              "    }\n",
              "</style>\n",
              "<table border=\"1\" class=\"dataframe\">\n",
              "  <thead>\n",
              "    <tr style=\"text-align: right;\">\n",
              "      <th></th>\n",
              "      <th>0</th>\n",
              "    </tr>\n",
              "  </thead>\n",
              "  <tbody>\n",
              "    <tr>\n",
              "      <th>School_Year</th>\n",
              "      <td>0</td>\n",
              "    </tr>\n",
              "    <tr>\n",
              "      <th>Busbreakdown_ID</th>\n",
              "      <td>0</td>\n",
              "    </tr>\n",
              "    <tr>\n",
              "      <th>Run_Type</th>\n",
              "      <td>0</td>\n",
              "    </tr>\n",
              "    <tr>\n",
              "      <th>Bus_No</th>\n",
              "      <td>0</td>\n",
              "    </tr>\n",
              "    <tr>\n",
              "      <th>Route_Number</th>\n",
              "      <td>0</td>\n",
              "    </tr>\n",
              "    <tr>\n",
              "      <th>Reason</th>\n",
              "      <td>0</td>\n",
              "    </tr>\n",
              "    <tr>\n",
              "      <th>Schools_Serviced</th>\n",
              "      <td>0</td>\n",
              "    </tr>\n",
              "    <tr>\n",
              "      <th>Occurred_On</th>\n",
              "      <td>0</td>\n",
              "    </tr>\n",
              "    <tr>\n",
              "      <th>Created_On</th>\n",
              "      <td>0</td>\n",
              "    </tr>\n",
              "    <tr>\n",
              "      <th>Boro</th>\n",
              "      <td>0</td>\n",
              "    </tr>\n",
              "    <tr>\n",
              "      <th>Bus_Company_Name</th>\n",
              "      <td>0</td>\n",
              "    </tr>\n",
              "    <tr>\n",
              "      <th>How_Long_Delayed</th>\n",
              "      <td>0</td>\n",
              "    </tr>\n",
              "    <tr>\n",
              "      <th>Number_Of_Students_On_The_Bus</th>\n",
              "      <td>0</td>\n",
              "    </tr>\n",
              "    <tr>\n",
              "      <th>Has_Contractor_Notified_Schools</th>\n",
              "      <td>0</td>\n",
              "    </tr>\n",
              "    <tr>\n",
              "      <th>Has_Contractor_Notified_Parents</th>\n",
              "      <td>0</td>\n",
              "    </tr>\n",
              "    <tr>\n",
              "      <th>Have_You_Alerted_OPT</th>\n",
              "      <td>0</td>\n",
              "    </tr>\n",
              "    <tr>\n",
              "      <th>Informed_On</th>\n",
              "      <td>0</td>\n",
              "    </tr>\n",
              "    <tr>\n",
              "      <th>Last_Updated_On</th>\n",
              "      <td>0</td>\n",
              "    </tr>\n",
              "    <tr>\n",
              "      <th>Breakdown_or_Running_Late</th>\n",
              "      <td>0</td>\n",
              "    </tr>\n",
              "    <tr>\n",
              "      <th>School_Age_or_PreK</th>\n",
              "      <td>0</td>\n",
              "    </tr>\n",
              "  </tbody>\n",
              "</table>\n",
              "</div><br><label><b>dtype:</b> int64</label>"
            ]
          },
          "metadata": {},
          "execution_count": 306
        }
      ]
    },
    {
      "cell_type": "code",
      "source": [
        "categorical_columns = df.astype('string').columns\n",
        "le = LabelEncoder()\n",
        "for col in categorical_columns:\n",
        "  df[col] = le.fit_transform(df[col])"
      ],
      "metadata": {
        "id": "3SAVmNbaH4YG"
      },
      "id": "3SAVmNbaH4YG",
      "execution_count": 307,
      "outputs": []
    },
    {
      "cell_type": "code",
      "execution_count": 308,
      "id": "fa5bbfd5",
      "metadata": {
        "id": "fa5bbfd5"
      },
      "outputs": [],
      "source": [
        "X = df.drop('Breakdown_or_Running_Late', axis=1)\n",
        "y = df['Breakdown_or_Running_Late']"
      ]
    },
    {
      "cell_type": "markdown",
      "source": [
        "Imbalanced data"
      ],
      "metadata": {
        "id": "QKBGOa42nVxd"
      },
      "id": "QKBGOa42nVxd"
    },
    {
      "cell_type": "code",
      "source": [
        "df['Breakdown_or_Running_Late'].value_counts()"
      ],
      "metadata": {
        "colab": {
          "base_uri": "https://localhost:8080/",
          "height": 176
        },
        "id": "YpnUTN3Xn73c",
        "outputId": "ac9c74bf-6304-41b6-b16b-e2334ed812d7"
      },
      "id": "YpnUTN3Xn73c",
      "execution_count": 309,
      "outputs": [
        {
          "output_type": "execute_result",
          "data": {
            "text/plain": [
              "Breakdown_or_Running_Late\n",
              "1    77946\n",
              "0     8972\n",
              "Name: count, dtype: int64"
            ],
            "text/html": [
              "<div>\n",
              "<style scoped>\n",
              "    .dataframe tbody tr th:only-of-type {\n",
              "        vertical-align: middle;\n",
              "    }\n",
              "\n",
              "    .dataframe tbody tr th {\n",
              "        vertical-align: top;\n",
              "    }\n",
              "\n",
              "    .dataframe thead th {\n",
              "        text-align: right;\n",
              "    }\n",
              "</style>\n",
              "<table border=\"1\" class=\"dataframe\">\n",
              "  <thead>\n",
              "    <tr style=\"text-align: right;\">\n",
              "      <th></th>\n",
              "      <th>count</th>\n",
              "    </tr>\n",
              "    <tr>\n",
              "      <th>Breakdown_or_Running_Late</th>\n",
              "      <th></th>\n",
              "    </tr>\n",
              "  </thead>\n",
              "  <tbody>\n",
              "    <tr>\n",
              "      <th>1</th>\n",
              "      <td>77946</td>\n",
              "    </tr>\n",
              "    <tr>\n",
              "      <th>0</th>\n",
              "      <td>8972</td>\n",
              "    </tr>\n",
              "  </tbody>\n",
              "</table>\n",
              "</div><br><label><b>dtype:</b> int64</label>"
            ]
          },
          "metadata": {},
          "execution_count": 309
        }
      ]
    },
    {
      "cell_type": "code",
      "source": [
        "from imblearn.over_sampling import SMOTE\n",
        "\n",
        "sm = SMOTE(random_state=42)\n",
        "X, y = sm.fit_resample(X, y)"
      ],
      "metadata": {
        "id": "UOexwPvymwzV"
      },
      "id": "UOexwPvymwzV",
      "execution_count": 310,
      "outputs": []
    },
    {
      "cell_type": "markdown",
      "source": [
        "Now it's balanced!"
      ],
      "metadata": {
        "id": "CCoD7f4epfxS"
      },
      "id": "CCoD7f4epfxS"
    },
    {
      "cell_type": "code",
      "source": [
        "y.value_counts()"
      ],
      "metadata": {
        "colab": {
          "base_uri": "https://localhost:8080/",
          "height": 176
        },
        "id": "u_rfYjn5n_7I",
        "outputId": "cd29abf3-6b7f-4fcf-df0a-85ae7733243f"
      },
      "id": "u_rfYjn5n_7I",
      "execution_count": 311,
      "outputs": [
        {
          "output_type": "execute_result",
          "data": {
            "text/plain": [
              "Breakdown_or_Running_Late\n",
              "1    77946\n",
              "0    77946\n",
              "Name: count, dtype: int64"
            ],
            "text/html": [
              "<div>\n",
              "<style scoped>\n",
              "    .dataframe tbody tr th:only-of-type {\n",
              "        vertical-align: middle;\n",
              "    }\n",
              "\n",
              "    .dataframe tbody tr th {\n",
              "        vertical-align: top;\n",
              "    }\n",
              "\n",
              "    .dataframe thead th {\n",
              "        text-align: right;\n",
              "    }\n",
              "</style>\n",
              "<table border=\"1\" class=\"dataframe\">\n",
              "  <thead>\n",
              "    <tr style=\"text-align: right;\">\n",
              "      <th></th>\n",
              "      <th>count</th>\n",
              "    </tr>\n",
              "    <tr>\n",
              "      <th>Breakdown_or_Running_Late</th>\n",
              "      <th></th>\n",
              "    </tr>\n",
              "  </thead>\n",
              "  <tbody>\n",
              "    <tr>\n",
              "      <th>1</th>\n",
              "      <td>77946</td>\n",
              "    </tr>\n",
              "    <tr>\n",
              "      <th>0</th>\n",
              "      <td>77946</td>\n",
              "    </tr>\n",
              "  </tbody>\n",
              "</table>\n",
              "</div><br><label><b>dtype:</b> int64</label>"
            ]
          },
          "metadata": {},
          "execution_count": 311
        }
      ]
    },
    {
      "cell_type": "markdown",
      "id": "bc887660",
      "metadata": {
        "id": "bc887660"
      },
      "source": [
        "## Split the Dataset\n",
        "Next, split the dataset into training, validation, and testing sets."
      ]
    },
    {
      "cell_type": "code",
      "source": [
        "X_train, X_test, y_train, y_test = train_test_split(X, y, test_size=0.25, random_state=42)"
      ],
      "metadata": {
        "id": "9r-SkE7FgreX"
      },
      "id": "9r-SkE7FgreX",
      "execution_count": 312,
      "outputs": []
    },
    {
      "cell_type": "markdown",
      "id": "7119b7d7",
      "metadata": {
        "id": "7119b7d7"
      },
      "source": [
        "## Building the ANN Model\n",
        "In this section, define the architecture of the ANN by specifying the number of layers, neurons, and activation functions."
      ]
    },
    {
      "cell_type": "code",
      "source": [
        "model = Sequential()\n",
        "model.add(Dense(units=6, input_dim=X_train.shape[1], kernel_initializer='uniform',activation='relu'))\n",
        "model.add(Dense(units=6, activation='relu'))\n",
        "model.add(Dense(units=6, activation='relu'))\n",
        "model.add(Dense(units=6, activation='relu'))\n",
        "model.add(Dense(units=2, activation='softmax'))"
      ],
      "metadata": {
        "colab": {
          "base_uri": "https://localhost:8080/"
        },
        "id": "7pj7L9JVivL-",
        "outputId": "0902ae8b-35f0-407c-adc1-8688c95e8fe6"
      },
      "id": "7pj7L9JVivL-",
      "execution_count": 333,
      "outputs": [
        {
          "output_type": "stream",
          "name": "stderr",
          "text": [
            "/usr/local/lib/python3.10/dist-packages/keras/src/layers/core/dense.py:87: UserWarning: Do not pass an `input_shape`/`input_dim` argument to a layer. When using Sequential models, prefer using an `Input(shape)` object as the first layer in the model instead.\n",
            "  super().__init__(activity_regularizer=activity_regularizer, **kwargs)\n"
          ]
        }
      ]
    },
    {
      "cell_type": "markdown",
      "id": "ac5e52e1",
      "metadata": {
        "id": "ac5e52e1"
      },
      "source": [
        "## Compile the Model\n",
        "Compile the ANN model by defining the optimizer, loss function, and evaluation metrics."
      ]
    },
    {
      "cell_type": "code",
      "execution_count": 337,
      "id": "ab363be3",
      "metadata": {
        "id": "ab363be3"
      },
      "outputs": [],
      "source": [
        "model.compile(optimizer='adam', loss='sparse_categorical_crossentropy', metrics=['accuracy'])"
      ]
    },
    {
      "cell_type": "code",
      "source": [
        "model.summary()"
      ],
      "metadata": {
        "colab": {
          "base_uri": "https://localhost:8080/",
          "height": 305
        },
        "id": "OMMJRZYljP7v",
        "outputId": "c842084a-8198-4ade-8cfa-aa05036f13d2"
      },
      "id": "OMMJRZYljP7v",
      "execution_count": 339,
      "outputs": [
        {
          "output_type": "display_data",
          "data": {
            "text/plain": [
              "\u001b[1mModel: \"sequential_7\"\u001b[0m\n"
            ],
            "text/html": [
              "<pre style=\"white-space:pre;overflow-x:auto;line-height:normal;font-family:Menlo,'DejaVu Sans Mono',consolas,'Courier New',monospace\"><span style=\"font-weight: bold\">Model: \"sequential_7\"</span>\n",
              "</pre>\n"
            ]
          },
          "metadata": {}
        },
        {
          "output_type": "display_data",
          "data": {
            "text/plain": [
              "┏━━━━━━━━━━━━━━━━━━━━━━━━━━━━━━━━━━━━━━┳━━━━━━━━━━━━━━━━━━━━━━━━━━━━━┳━━━━━━━━━━━━━━━━━┓\n",
              "┃\u001b[1m \u001b[0m\u001b[1mLayer (type)                        \u001b[0m\u001b[1m \u001b[0m┃\u001b[1m \u001b[0m\u001b[1mOutput Shape               \u001b[0m\u001b[1m \u001b[0m┃\u001b[1m \u001b[0m\u001b[1m        Param #\u001b[0m\u001b[1m \u001b[0m┃\n",
              "┡━━━━━━━━━━━━━━━━━━━━━━━━━━━━━━━━━━━━━━╇━━━━━━━━━━━━━━━━━━━━━━━━━━━━━╇━━━━━━━━━━━━━━━━━┩\n",
              "│ dense_32 (\u001b[38;5;33mDense\u001b[0m)                     │ (\u001b[38;5;45mNone\u001b[0m, \u001b[38;5;34m6\u001b[0m)                   │             \u001b[38;5;34m120\u001b[0m │\n",
              "├──────────────────────────────────────┼─────────────────────────────┼─────────────────┤\n",
              "│ dense_33 (\u001b[38;5;33mDense\u001b[0m)                     │ (\u001b[38;5;45mNone\u001b[0m, \u001b[38;5;34m6\u001b[0m)                   │              \u001b[38;5;34m42\u001b[0m │\n",
              "├──────────────────────────────────────┼─────────────────────────────┼─────────────────┤\n",
              "│ dense_34 (\u001b[38;5;33mDense\u001b[0m)                     │ (\u001b[38;5;45mNone\u001b[0m, \u001b[38;5;34m6\u001b[0m)                   │              \u001b[38;5;34m42\u001b[0m │\n",
              "├──────────────────────────────────────┼─────────────────────────────┼─────────────────┤\n",
              "│ dense_35 (\u001b[38;5;33mDense\u001b[0m)                     │ (\u001b[38;5;45mNone\u001b[0m, \u001b[38;5;34m6\u001b[0m)                   │              \u001b[38;5;34m42\u001b[0m │\n",
              "├──────────────────────────────────────┼─────────────────────────────┼─────────────────┤\n",
              "│ dense_36 (\u001b[38;5;33mDense\u001b[0m)                     │ (\u001b[38;5;45mNone\u001b[0m, \u001b[38;5;34m2\u001b[0m)                   │              \u001b[38;5;34m14\u001b[0m │\n",
              "└──────────────────────────────────────┴─────────────────────────────┴─────────────────┘\n"
            ],
            "text/html": [
              "<pre style=\"white-space:pre;overflow-x:auto;line-height:normal;font-family:Menlo,'DejaVu Sans Mono',consolas,'Courier New',monospace\">┏━━━━━━━━━━━━━━━━━━━━━━━━━━━━━━━━━━━━━━┳━━━━━━━━━━━━━━━━━━━━━━━━━━━━━┳━━━━━━━━━━━━━━━━━┓\n",
              "┃<span style=\"font-weight: bold\"> Layer (type)                         </span>┃<span style=\"font-weight: bold\"> Output Shape                </span>┃<span style=\"font-weight: bold\">         Param # </span>┃\n",
              "┡━━━━━━━━━━━━━━━━━━━━━━━━━━━━━━━━━━━━━━╇━━━━━━━━━━━━━━━━━━━━━━━━━━━━━╇━━━━━━━━━━━━━━━━━┩\n",
              "│ dense_32 (<span style=\"color: #0087ff; text-decoration-color: #0087ff\">Dense</span>)                     │ (<span style=\"color: #00d7ff; text-decoration-color: #00d7ff\">None</span>, <span style=\"color: #00af00; text-decoration-color: #00af00\">6</span>)                   │             <span style=\"color: #00af00; text-decoration-color: #00af00\">120</span> │\n",
              "├──────────────────────────────────────┼─────────────────────────────┼─────────────────┤\n",
              "│ dense_33 (<span style=\"color: #0087ff; text-decoration-color: #0087ff\">Dense</span>)                     │ (<span style=\"color: #00d7ff; text-decoration-color: #00d7ff\">None</span>, <span style=\"color: #00af00; text-decoration-color: #00af00\">6</span>)                   │              <span style=\"color: #00af00; text-decoration-color: #00af00\">42</span> │\n",
              "├──────────────────────────────────────┼─────────────────────────────┼─────────────────┤\n",
              "│ dense_34 (<span style=\"color: #0087ff; text-decoration-color: #0087ff\">Dense</span>)                     │ (<span style=\"color: #00d7ff; text-decoration-color: #00d7ff\">None</span>, <span style=\"color: #00af00; text-decoration-color: #00af00\">6</span>)                   │              <span style=\"color: #00af00; text-decoration-color: #00af00\">42</span> │\n",
              "├──────────────────────────────────────┼─────────────────────────────┼─────────────────┤\n",
              "│ dense_35 (<span style=\"color: #0087ff; text-decoration-color: #0087ff\">Dense</span>)                     │ (<span style=\"color: #00d7ff; text-decoration-color: #00d7ff\">None</span>, <span style=\"color: #00af00; text-decoration-color: #00af00\">6</span>)                   │              <span style=\"color: #00af00; text-decoration-color: #00af00\">42</span> │\n",
              "├──────────────────────────────────────┼─────────────────────────────┼─────────────────┤\n",
              "│ dense_36 (<span style=\"color: #0087ff; text-decoration-color: #0087ff\">Dense</span>)                     │ (<span style=\"color: #00d7ff; text-decoration-color: #00d7ff\">None</span>, <span style=\"color: #00af00; text-decoration-color: #00af00\">2</span>)                   │              <span style=\"color: #00af00; text-decoration-color: #00af00\">14</span> │\n",
              "└──────────────────────────────────────┴─────────────────────────────┴─────────────────┘\n",
              "</pre>\n"
            ]
          },
          "metadata": {}
        },
        {
          "output_type": "display_data",
          "data": {
            "text/plain": [
              "\u001b[1m Total params: \u001b[0m\u001b[38;5;34m782\u001b[0m (3.06 KB)\n"
            ],
            "text/html": [
              "<pre style=\"white-space:pre;overflow-x:auto;line-height:normal;font-family:Menlo,'DejaVu Sans Mono',consolas,'Courier New',monospace\"><span style=\"font-weight: bold\"> Total params: </span><span style=\"color: #00af00; text-decoration-color: #00af00\">782</span> (3.06 KB)\n",
              "</pre>\n"
            ]
          },
          "metadata": {}
        },
        {
          "output_type": "display_data",
          "data": {
            "text/plain": [
              "\u001b[1m Trainable params: \u001b[0m\u001b[38;5;34m260\u001b[0m (1.02 KB)\n"
            ],
            "text/html": [
              "<pre style=\"white-space:pre;overflow-x:auto;line-height:normal;font-family:Menlo,'DejaVu Sans Mono',consolas,'Courier New',monospace\"><span style=\"font-weight: bold\"> Trainable params: </span><span style=\"color: #00af00; text-decoration-color: #00af00\">260</span> (1.02 KB)\n",
              "</pre>\n"
            ]
          },
          "metadata": {}
        },
        {
          "output_type": "display_data",
          "data": {
            "text/plain": [
              "\u001b[1m Non-trainable params: \u001b[0m\u001b[38;5;34m0\u001b[0m (0.00 B)\n"
            ],
            "text/html": [
              "<pre style=\"white-space:pre;overflow-x:auto;line-height:normal;font-family:Menlo,'DejaVu Sans Mono',consolas,'Courier New',monospace\"><span style=\"font-weight: bold\"> Non-trainable params: </span><span style=\"color: #00af00; text-decoration-color: #00af00\">0</span> (0.00 B)\n",
              "</pre>\n"
            ]
          },
          "metadata": {}
        },
        {
          "output_type": "display_data",
          "data": {
            "text/plain": [
              "\u001b[1m Optimizer params: \u001b[0m\u001b[38;5;34m522\u001b[0m (2.04 KB)\n"
            ],
            "text/html": [
              "<pre style=\"white-space:pre;overflow-x:auto;line-height:normal;font-family:Menlo,'DejaVu Sans Mono',consolas,'Courier New',monospace\"><span style=\"font-weight: bold\"> Optimizer params: </span><span style=\"color: #00af00; text-decoration-color: #00af00\">522</span> (2.04 KB)\n",
              "</pre>\n"
            ]
          },
          "metadata": {}
        }
      ]
    },
    {
      "cell_type": "markdown",
      "id": "e9a72223",
      "metadata": {
        "id": "e9a72223"
      },
      "source": [
        "## Training the Model\n",
        "Train the ANN model using the training data."
      ]
    },
    {
      "cell_type": "code",
      "execution_count": 338,
      "id": "e43fedab",
      "metadata": {
        "colab": {
          "base_uri": "https://localhost:8080/"
        },
        "id": "e43fedab",
        "outputId": "b956011f-89bb-42f7-885c-f17afd2567d3"
      },
      "outputs": [
        {
          "output_type": "stream",
          "name": "stdout",
          "text": [
            "Epoch 1/10\n",
            "\u001b[1m3654/3654\u001b[0m \u001b[32m━━━━━━━━━━━━━━━━━━━━\u001b[0m\u001b[37m\u001b[0m \u001b[1m9s\u001b[0m 2ms/step - accuracy: 0.6233 - loss: 25.7134\n",
            "Epoch 2/10\n",
            "\u001b[1m3654/3654\u001b[0m \u001b[32m━━━━━━━━━━━━━━━━━━━━\u001b[0m\u001b[37m\u001b[0m \u001b[1m12s\u001b[0m 2ms/step - accuracy: 0.7443 - loss: 0.5540\n",
            "Epoch 3/10\n",
            "\u001b[1m3654/3654\u001b[0m \u001b[32m━━━━━━━━━━━━━━━━━━━━\u001b[0m\u001b[37m\u001b[0m \u001b[1m6s\u001b[0m 2ms/step - accuracy: 0.7334 - loss: 0.5624\n",
            "Epoch 4/10\n",
            "\u001b[1m3654/3654\u001b[0m \u001b[32m━━━━━━━━━━━━━━━━━━━━\u001b[0m\u001b[37m\u001b[0m \u001b[1m8s\u001b[0m 2ms/step - accuracy: 0.7667 - loss: 0.4650\n",
            "Epoch 5/10\n",
            "\u001b[1m3654/3654\u001b[0m \u001b[32m━━━━━━━━━━━━━━━━━━━━\u001b[0m\u001b[37m\u001b[0m \u001b[1m6s\u001b[0m 2ms/step - accuracy: 0.8115 - loss: 0.4075\n",
            "Epoch 6/10\n",
            "\u001b[1m3654/3654\u001b[0m \u001b[32m━━━━━━━━━━━━━━━━━━━━\u001b[0m\u001b[37m\u001b[0m \u001b[1m8s\u001b[0m 2ms/step - accuracy: 0.8678 - loss: 0.3449\n",
            "Epoch 7/10\n",
            "\u001b[1m3654/3654\u001b[0m \u001b[32m━━━━━━━━━━━━━━━━━━━━\u001b[0m\u001b[37m\u001b[0m \u001b[1m10s\u001b[0m 2ms/step - accuracy: 0.8853 - loss: 0.3160\n",
            "Epoch 8/10\n",
            "\u001b[1m3654/3654\u001b[0m \u001b[32m━━━━━━━━━━━━━━━━━━━━\u001b[0m\u001b[37m\u001b[0m \u001b[1m7s\u001b[0m 2ms/step - accuracy: 0.8916 - loss: 0.3017\n",
            "Epoch 9/10\n",
            "\u001b[1m3654/3654\u001b[0m \u001b[32m━━━━━━━━━━━━━━━━━━━━\u001b[0m\u001b[37m\u001b[0m \u001b[1m7s\u001b[0m 2ms/step - accuracy: 0.8957 - loss: 0.2926\n",
            "Epoch 10/10\n",
            "\u001b[1m3654/3654\u001b[0m \u001b[32m━━━━━━━━━━━━━━━━━━━━\u001b[0m\u001b[37m\u001b[0m \u001b[1m7s\u001b[0m 2ms/step - accuracy: 0.8935 - loss: 0.2964\n"
          ]
        }
      ],
      "source": [
        "history = model.fit(X_train, y_train, epochs=10)"
      ]
    },
    {
      "cell_type": "markdown",
      "id": "20ce9661",
      "metadata": {
        "id": "20ce9661"
      },
      "source": [
        "## Evaluate the Model\n",
        "Evaluate the performance of the model on the test set."
      ]
    },
    {
      "cell_type": "code",
      "execution_count": 340,
      "id": "73167afc",
      "metadata": {
        "colab": {
          "base_uri": "https://localhost:8080/"
        },
        "id": "73167afc",
        "outputId": "ce95c5bf-6e1b-4de3-9e61-bee8745e2045"
      },
      "outputs": [
        {
          "output_type": "stream",
          "name": "stdout",
          "text": [
            "\u001b[1m1218/1218\u001b[0m \u001b[32m━━━━━━━━━━━━━━━━━━━━\u001b[0m\u001b[37m\u001b[0m \u001b[1m2s\u001b[0m 2ms/step - accuracy: 0.8966 - loss: 0.2764\n"
          ]
        },
        {
          "output_type": "execute_result",
          "data": {
            "text/plain": [
              "[0.27651751041412354, 0.8963897824287415]"
            ]
          },
          "metadata": {},
          "execution_count": 340
        }
      ],
      "source": [
        "model.evaluate(X_test,y_test)"
      ]
    },
    {
      "cell_type": "markdown",
      "id": "08e9bc87",
      "metadata": {
        "id": "08e9bc87"
      },
      "source": [
        "## Make Predictions\n",
        "Use the trained model to make predictions on new or unseen data."
      ]
    },
    {
      "cell_type": "code",
      "source": [
        "y_pred = model.predict(X_test)"
      ],
      "metadata": {
        "colab": {
          "base_uri": "https://localhost:8080/"
        },
        "id": "ua8_R7tCxUxS",
        "outputId": "451ca6ef-e2ce-4a8f-faa3-ca5c54fe3d7d"
      },
      "id": "ua8_R7tCxUxS",
      "execution_count": 347,
      "outputs": [
        {
          "output_type": "stream",
          "name": "stdout",
          "text": [
            "\u001b[1m1218/1218\u001b[0m \u001b[32m━━━━━━━━━━━━━━━━━━━━\u001b[0m\u001b[37m\u001b[0m \u001b[1m1s\u001b[0m 1ms/step\n"
          ]
        }
      ]
    },
    {
      "cell_type": "markdown",
      "id": "94942463",
      "metadata": {
        "id": "94942463"
      },
      "source": [
        "## Model Performance Visualization\n",
        "Visualize the performance metrics such as accuracy and loss over the epochs."
      ]
    },
    {
      "cell_type": "code",
      "execution_count": 348,
      "id": "b1955952",
      "metadata": {
        "colab": {
          "base_uri": "https://localhost:8080/",
          "height": 472
        },
        "id": "b1955952",
        "outputId": "51a9988d-02e9-4ec2-cda1-4df0094885fa"
      },
      "outputs": [
        {
          "output_type": "display_data",
          "data": {
            "text/plain": [
              "<Figure size 640x480 with 1 Axes>"
            ],
            "image/png": "[encoded data removed]"
          },
          "metadata": {}
        }
      ],
      "source": [
        "plt.plot(history.history['loss'], label='Training Loss')\n",
        "#plt.plot(history.history['val_loss'], label='Validation Loss')\n",
        "plt.title('Model Loss')\n",
        "plt.xlabel('Epochs')\n",
        "plt.ylabel('Loss')\n",
        "plt.legend()\n",
        "plt.show()\n"
      ]
    },
    {
      "cell_type": "code",
      "source": [
        "plt.plot(history.history['accuracy'], label='Training Accuracy')\n",
        "#plt.plot(history.history['val_accuracy'], label='Validation Accuracy')\n",
        "plt.title('Model Accuracy')\n",
        "plt.xlabel('Epochs')\n",
        "plt.ylabel('Accuracy')\n",
        "plt.legend()"
      ],
      "metadata": {
        "colab": {
          "base_uri": "https://localhost:8080/",
          "height": 489
        },
        "id": "nLNyrBQkua3K",
        "outputId": "292ffd3e-b90e-46a6-d0a2-c84c9b9c6d1b"
      },
      "id": "nLNyrBQkua3K",
      "execution_count": 349,
      "outputs": [
        {
          "output_type": "execute_result",
          "data": {
            "text/plain": [
              "<matplotlib.legend.Legend at 0x7de60a6b1c90>"
            ]
          },
          "metadata": {},
          "execution_count": 349
        },
        {
          "output_type": "display_data",
          "data": {
            "text/plain": [
              "<Figure size 640x480 with 1 Axes>"
            ],
            "image/png": "[encoded data removed]"
          },
          "metadata": {}
        }
      ]
    },
    {
      "cell_type": "markdown",
      "id": "1d32965f",
      "metadata": {
        "id": "1d32965f"
      },
      "source": [
        "## Save the Model\n",
        "Save the trained model for submission."
      ]
    },
    {
      "cell_type": "code",
      "execution_count": null,
      "id": "a4e1f00e",
      "metadata": {
        "id": "a4e1f00e"
      },
      "outputs": [],
      "source": [
        "model.save('model.keras')"
      ]
    },
    {
      "cell_type": "markdown",
      "id": "9ebe9b8d",
      "metadata": {
        "id": "9ebe9b8d"
      },
      "source": [
        "## Project Questions:\n",
        "\n",
        "1. **Data Preprocessing**: Explain why you chose your specific data preprocessing techniques (e.g., normalization, encoding). How did these techniques help prepare the data for training the model?\n",
        "2. **Model Architecture**: Describe the reasoning behind your model’s architecture (e.g., the number of layers, type of layers, number of neurons, and activation functions). Why did you believe this architecture was appropriate for the problem at hand?\n",
        "3. **Training Process**: Discuss why you chose your batch size, number of epochs, and optimizer. How did these choices affect the training process? Did you experiment with different values, and what were the outcomes?\n",
        "4. **Loss Function and Metrics**: Why did you choose the specific loss function and evaluation metrics? How do they align with the objective of the task (e.g., regression vs classification)?\n",
        "5. **Regularization Techniques**: If you used regularization techniques such as dropout or weight decay, explain why you implemented them and how they influenced the model's performance.\n",
        "6. **Model Evaluation**: Justify your approach to evaluating the model. Why did you choose the specific performance metrics, and how do they reflect the model's success in solving the task?\n",
        "7. **Model Tuning (If Done)**: Describe any tuning you performed (e.g., hyperparameter tuning) and why you felt it was necessary. How did these adjustments improve model performance?\n",
        "8. **Overfitting and Underfitting**: Analyze whether the model encountered any overfitting or underfitting during training. What strategies could you implement to mitigate these issues?"
      ]
    },
    {
      "cell_type": "markdown",
      "id": "5f524a61",
      "metadata": {
        "id": "5f524a61"
      },
      "source": [
        "### Answer Here:"
      ]
    },
    {
      "cell_type": "markdown",
      "source": [
        "- In the data preprocessing step: I filled na values with mode and tried to save as many as possible rows. Moreover, I implemented SMOTE to tackle the imbalanced data I have. Then Splitted the data.\n",
        "\n",
        "- Bulidnig the model architecture I started with building 3 hidden five in total with the input and the output layers. I first used sigmoid output activation function, but it did not perform well. I decided to use soft max and perfomance got higher using softmax.\n",
        "\n",
        "- SparseCategoricalCrossentropy chosen because we have a multi class with two labels break down or running late with 10 epoch reached a reasonable accuracy for the training and testing without overfitting nor underfitting. I have used sparsecategoricalcrossentroy to tackle this problem because we have categorical target variable\n",
        "\n",
        "\n",
        "- I have not faced any overfitting nor underfitting to use normalization techniques or increase the complexity of the model. I just reduced the numbers of layers which worked very good on the model's performance\n",
        "\n",
        "- I used accuracy and tested the model on test dataset which generated a high accuracy. Moreover, I plotted loss and accuracy to visualized the performance of the model with each epoch. Recall and percesion could've been used but had no time to implement them.\n",
        "\n",
        "- At first my model did not perform well with binary crossentroby and it was underfitting for some reason. I changed the approach to treat the two labels as multilabel with two neuron output layer which eventually increased model complexity . In case of overfitting, Using some regulariztion techniques could be helpful."
      ],
      "metadata": {
        "id": "5Y_oVSXmy-ho"
      },
      "id": "5Y_oVSXmy-ho"
    }
  ],
  "metadata": {
    "language_info": {
      "name": "python"
    },
    "colab": {
      "provenance": [],
      "toc_visible": true
    },
    "kernelspec": {
      "name": "python3",
      "display_name": "Python 3"
    }
  },
  "nbformat": 4,
  "nbformat_minor": 5
}